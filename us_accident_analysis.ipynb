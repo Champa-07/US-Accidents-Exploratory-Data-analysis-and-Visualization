{
  "nbformat": 4,
  "nbformat_minor": 0,
  "metadata": {
    "colab": {
      "name": "us-accident-analysis.ipynb",
      "provenance": [],
      "include_colab_link": true
    },
    "kernelspec": {
      "display_name": "Python 3",
      "language": "python",
      "name": "python3"
    },
    "language_info": {
      "codemirror_mode": {
        "name": "ipython",
        "version": 3
      },
      "file_extension": ".py",
      "mimetype": "text/x-python",
      "name": "python",
      "nbconvert_exporter": "python",
      "pygments_lexer": "ipython3",
      "version": "3.7.6"
    }
  },
  "cells": [
    {
      "cell_type": "markdown",
      "metadata": {
        "id": "view-in-github",
        "colab_type": "text"
      },
      "source": [
        "<a href=\"https://colab.research.google.com/github/Champa-07/US-Accidents-Exploratory-Data-analysis-and-visualization/blob/main/us_accident_analysis.ipynb\" target=\"_parent\"><img src=\"https://colab.research.google.com/assets/colab-badge.svg\" alt=\"Open In Colab\"/></a>"
      ]
    },
    {
      "cell_type": "code",
      "metadata": {
        "id": "KE4EURd5zA8D"
      },
      "source": [
        "# Jovian Commit Essentials\n",
        "# Please retain and execute this cell without modifying the contents for `jovian.commit` to work\n",
        "!pip install jovian --upgrade -q\n",
        "import jovian\n",
        "jovian.set_project('us-accident-analysis')\n",
        "jovian.set_colab_id('1UAsp1wQkKxDnI_1C68mfpxt_LixptYQn')"
      ],
      "execution_count": null,
      "outputs": []
    },
    {
      "cell_type": "markdown",
      "metadata": {
        "id": "HqHLpgqCi4z-"
      },
      "source": [
        "# us-accident-analysis\n",
        "\n",
        "Use the \"Run\" button to execute the code."
      ]
    },
    {
      "cell_type": "markdown",
      "metadata": {
        "id": "Y1mi7gZNjXiJ"
      },
      "source": [
        "#US Accidents Exploratory Data Analysis\n",
        "\n",
        "TODO - talk about EDA\n",
        "\n",
        "TODO - talk about the dataset\n",
        "\n",
        "SOURCE - Kaggle -info about accidents\n",
        "\n",
        "mention that this doesnt contain data about new york"
      ]
    },
    {
      "cell_type": "code",
      "metadata": {
        "id": "po_tiUlzjm2y"
      },
      "source": [
        "pip install opendatasets --upgrade  --quiet"
      ],
      "execution_count": null,
      "outputs": []
    },
    {
      "cell_type": "code",
      "metadata": {
        "colab": {
          "base_uri": "https://localhost:8080/"
        },
        "id": "qXmo1JZMlXOB",
        "outputId": "0e6aef41-5648-482e-a5e4-326727f4e3bc"
      },
      "source": [
        "import opendatasets as od\n",
        "\n",
        "download_url = 'https://www.kaggle.com/sobhanmoosavi/us-accidents'\n",
        "\n",
        "od.download(download_url)\n",
        "\n"
      ],
      "execution_count": null,
      "outputs": [
        {
          "output_type": "stream",
          "text": [
            "Please provide your Kaggle credentials to download this dataset. Learn more: http://bit.ly/kaggle-creds\n",
            "Your Kaggle username: champap\n",
            "Your Kaggle Key: ··········\n"
          ],
          "name": "stdout"
        },
        {
          "output_type": "stream",
          "text": [
            "\r  0%|          | 0.00/290M [00:00<?, ?B/s]"
          ],
          "name": "stderr"
        },
        {
          "output_type": "stream",
          "text": [
            "Downloading us-accidents.zip to ./us-accidents\n"
          ],
          "name": "stdout"
        },
        {
          "output_type": "stream",
          "text": [
            "100%|██████████| 290M/290M [00:02<00:00, 124MB/s]\n"
          ],
          "name": "stderr"
        },
        {
          "output_type": "stream",
          "text": [
            "\n"
          ],
          "name": "stdout"
        }
      ]
    },
    {
      "cell_type": "code",
      "metadata": {
        "id": "AeUq1icgnTtY"
      },
      "source": [
        "data_filename ='./us-accidents/US_Accidents_Dec20_Updated.csv'"
      ],
      "execution_count": null,
      "outputs": []
    },
    {
      "cell_type": "markdown",
      "metadata": {
        "id": "yBylozbSoFAs"
      },
      "source": [
        "##Data Preparation and Cleaning\n",
        "\n",
        "-Load the file using Pandas\n",
        "\n",
        "-Look at some information about the data and the columns \n",
        "\n",
        "-Fix any missing or incorrect values"
      ]
    },
    {
      "cell_type": "code",
      "metadata": {
        "id": "hRbkvTHsnSiV"
      },
      "source": [
        "import pandas as pd "
      ],
      "execution_count": null,
      "outputs": []
    },
    {
      "cell_type": "code",
      "metadata": {
        "id": "1qP2tubHoiwr"
      },
      "source": [
        "df = pd.read_csv(data_filename)"
      ],
      "execution_count": null,
      "outputs": []
    },
    {
      "cell_type": "code",
      "metadata": {
        "colab": {
          "base_uri": "https://localhost:8080/",
          "height": 941
        },
        "id": "0Z-IyCUGo_cs",
        "outputId": "645981e8-b8f1-4472-f0e4-56cbdeb9e35a"
      },
      "source": [
        "df"
      ],
      "execution_count": null,
      "outputs": [
        {
          "output_type": "execute_result",
          "data": {
            "text/html": [
              "<div>\n",
              "<style scoped>\n",
              "    .dataframe tbody tr th:only-of-type {\n",
              "        vertical-align: middle;\n",
              "    }\n",
              "\n",
              "    .dataframe tbody tr th {\n",
              "        vertical-align: top;\n",
              "    }\n",
              "\n",
              "    .dataframe thead th {\n",
              "        text-align: right;\n",
              "    }\n",
              "</style>\n",
              "<table border=\"1\" class=\"dataframe\">\n",
              "  <thead>\n",
              "    <tr style=\"text-align: right;\">\n",
              "      <th></th>\n",
              "      <th>ID</th>\n",
              "      <th>Severity</th>\n",
              "      <th>Start_Time</th>\n",
              "      <th>End_Time</th>\n",
              "      <th>Start_Lat</th>\n",
              "      <th>Start_Lng</th>\n",
              "      <th>End_Lat</th>\n",
              "      <th>End_Lng</th>\n",
              "      <th>Distance(mi)</th>\n",
              "      <th>Description</th>\n",
              "      <th>Number</th>\n",
              "      <th>Street</th>\n",
              "      <th>Side</th>\n",
              "      <th>City</th>\n",
              "      <th>County</th>\n",
              "      <th>State</th>\n",
              "      <th>Zipcode</th>\n",
              "      <th>Country</th>\n",
              "      <th>Timezone</th>\n",
              "      <th>Airport_Code</th>\n",
              "      <th>Weather_Timestamp</th>\n",
              "      <th>Temperature(F)</th>\n",
              "      <th>Wind_Chill(F)</th>\n",
              "      <th>Humidity(%)</th>\n",
              "      <th>Pressure(in)</th>\n",
              "      <th>Visibility(mi)</th>\n",
              "      <th>Wind_Direction</th>\n",
              "      <th>Wind_Speed(mph)</th>\n",
              "      <th>Precipitation(in)</th>\n",
              "      <th>Weather_Condition</th>\n",
              "      <th>Amenity</th>\n",
              "      <th>Bump</th>\n",
              "      <th>Crossing</th>\n",
              "      <th>Give_Way</th>\n",
              "      <th>Junction</th>\n",
              "      <th>No_Exit</th>\n",
              "      <th>Railway</th>\n",
              "      <th>Roundabout</th>\n",
              "      <th>Station</th>\n",
              "      <th>Stop</th>\n",
              "      <th>Traffic_Calming</th>\n",
              "      <th>Traffic_Signal</th>\n",
              "      <th>Turning_Loop</th>\n",
              "      <th>Sunrise_Sunset</th>\n",
              "      <th>Civil_Twilight</th>\n",
              "      <th>Nautical_Twilight</th>\n",
              "      <th>Astronomical_Twilight</th>\n",
              "    </tr>\n",
              "  </thead>\n",
              "  <tbody>\n",
              "    <tr>\n",
              "      <th>0</th>\n",
              "      <td>A-1</td>\n",
              "      <td>2</td>\n",
              "      <td>2019-05-21 08:29:55</td>\n",
              "      <td>2019-05-21 09:29:40</td>\n",
              "      <td>34.808868</td>\n",
              "      <td>-82.269157</td>\n",
              "      <td>34.808868</td>\n",
              "      <td>-82.269157</td>\n",
              "      <td>0.000</td>\n",
              "      <td>Accident on Tanner Rd at Pennbrooke Ln.</td>\n",
              "      <td>439.0</td>\n",
              "      <td>Tanner Rd</td>\n",
              "      <td>R</td>\n",
              "      <td>Greenville</td>\n",
              "      <td>Greenville</td>\n",
              "      <td>SC</td>\n",
              "      <td>29607-6027</td>\n",
              "      <td>US</td>\n",
              "      <td>US/Eastern</td>\n",
              "      <td>KGMU</td>\n",
              "      <td>2019-05-21 08:53:00</td>\n",
              "      <td>76.0</td>\n",
              "      <td>76.0</td>\n",
              "      <td>52.0</td>\n",
              "      <td>28.91</td>\n",
              "      <td>10.0</td>\n",
              "      <td>N</td>\n",
              "      <td>7.0</td>\n",
              "      <td>0.0</td>\n",
              "      <td>Fair</td>\n",
              "      <td>False</td>\n",
              "      <td>False</td>\n",
              "      <td>False</td>\n",
              "      <td>False</td>\n",
              "      <td>False</td>\n",
              "      <td>False</td>\n",
              "      <td>False</td>\n",
              "      <td>False</td>\n",
              "      <td>False</td>\n",
              "      <td>False</td>\n",
              "      <td>False</td>\n",
              "      <td>False</td>\n",
              "      <td>False</td>\n",
              "      <td>Day</td>\n",
              "      <td>Day</td>\n",
              "      <td>Day</td>\n",
              "      <td>Day</td>\n",
              "    </tr>\n",
              "    <tr>\n",
              "      <th>1</th>\n",
              "      <td>A-2</td>\n",
              "      <td>2</td>\n",
              "      <td>2019-10-07 17:43:09</td>\n",
              "      <td>2019-10-07 19:42:50</td>\n",
              "      <td>35.090080</td>\n",
              "      <td>-80.745560</td>\n",
              "      <td>35.090080</td>\n",
              "      <td>-80.745560</td>\n",
              "      <td>0.000</td>\n",
              "      <td>Accident on Houston Branch Rd at Providence Br...</td>\n",
              "      <td>3299.0</td>\n",
              "      <td>Providence Branch Ln</td>\n",
              "      <td>R</td>\n",
              "      <td>Charlotte</td>\n",
              "      <td>Mecklenburg</td>\n",
              "      <td>NC</td>\n",
              "      <td>28270-8560</td>\n",
              "      <td>US</td>\n",
              "      <td>US/Eastern</td>\n",
              "      <td>KEQY</td>\n",
              "      <td>2019-10-07 17:53:00</td>\n",
              "      <td>76.0</td>\n",
              "      <td>76.0</td>\n",
              "      <td>62.0</td>\n",
              "      <td>29.30</td>\n",
              "      <td>10.0</td>\n",
              "      <td>VAR</td>\n",
              "      <td>3.0</td>\n",
              "      <td>0.0</td>\n",
              "      <td>Cloudy</td>\n",
              "      <td>False</td>\n",
              "      <td>False</td>\n",
              "      <td>False</td>\n",
              "      <td>False</td>\n",
              "      <td>False</td>\n",
              "      <td>False</td>\n",
              "      <td>False</td>\n",
              "      <td>False</td>\n",
              "      <td>False</td>\n",
              "      <td>False</td>\n",
              "      <td>False</td>\n",
              "      <td>False</td>\n",
              "      <td>False</td>\n",
              "      <td>Day</td>\n",
              "      <td>Day</td>\n",
              "      <td>Day</td>\n",
              "      <td>Day</td>\n",
              "    </tr>\n",
              "    <tr>\n",
              "      <th>2</th>\n",
              "      <td>A-3</td>\n",
              "      <td>2</td>\n",
              "      <td>2020-12-13 21:53:00</td>\n",
              "      <td>2020-12-13 22:44:00</td>\n",
              "      <td>37.145730</td>\n",
              "      <td>-121.985052</td>\n",
              "      <td>37.165850</td>\n",
              "      <td>-121.988062</td>\n",
              "      <td>1.400</td>\n",
              "      <td>Stationary traffic on CA-17 from Summit Rd (CA...</td>\n",
              "      <td>NaN</td>\n",
              "      <td>Santa Cruz Hwy</td>\n",
              "      <td>R</td>\n",
              "      <td>Los Gatos</td>\n",
              "      <td>Santa Clara</td>\n",
              "      <td>CA</td>\n",
              "      <td>95033</td>\n",
              "      <td>US</td>\n",
              "      <td>US/Pacific</td>\n",
              "      <td>KSJC</td>\n",
              "      <td>2020-12-13 21:53:00</td>\n",
              "      <td>51.0</td>\n",
              "      <td>51.0</td>\n",
              "      <td>80.0</td>\n",
              "      <td>30.17</td>\n",
              "      <td>10.0</td>\n",
              "      <td>W</td>\n",
              "      <td>6.0</td>\n",
              "      <td>0.0</td>\n",
              "      <td>Fair</td>\n",
              "      <td>False</td>\n",
              "      <td>False</td>\n",
              "      <td>False</td>\n",
              "      <td>False</td>\n",
              "      <td>False</td>\n",
              "      <td>False</td>\n",
              "      <td>False</td>\n",
              "      <td>False</td>\n",
              "      <td>False</td>\n",
              "      <td>False</td>\n",
              "      <td>False</td>\n",
              "      <td>False</td>\n",
              "      <td>False</td>\n",
              "      <td>Night</td>\n",
              "      <td>Night</td>\n",
              "      <td>Night</td>\n",
              "      <td>Night</td>\n",
              "    </tr>\n",
              "    <tr>\n",
              "      <th>3</th>\n",
              "      <td>A-4</td>\n",
              "      <td>2</td>\n",
              "      <td>2018-04-17 16:51:23</td>\n",
              "      <td>2018-04-17 17:50:46</td>\n",
              "      <td>39.110390</td>\n",
              "      <td>-119.773781</td>\n",
              "      <td>39.110390</td>\n",
              "      <td>-119.773781</td>\n",
              "      <td>0.000</td>\n",
              "      <td>Accident on US-395 Southbound at Topsy Ln.</td>\n",
              "      <td>NaN</td>\n",
              "      <td>US Highway 395 S</td>\n",
              "      <td>R</td>\n",
              "      <td>Carson City</td>\n",
              "      <td>Douglas</td>\n",
              "      <td>NV</td>\n",
              "      <td>89705</td>\n",
              "      <td>US</td>\n",
              "      <td>US/Pacific</td>\n",
              "      <td>KCXP</td>\n",
              "      <td>2018-04-17 16:55:00</td>\n",
              "      <td>53.6</td>\n",
              "      <td>NaN</td>\n",
              "      <td>16.0</td>\n",
              "      <td>30.16</td>\n",
              "      <td>10.0</td>\n",
              "      <td>SSW</td>\n",
              "      <td>4.6</td>\n",
              "      <td>NaN</td>\n",
              "      <td>Clear</td>\n",
              "      <td>False</td>\n",
              "      <td>False</td>\n",
              "      <td>False</td>\n",
              "      <td>False</td>\n",
              "      <td>False</td>\n",
              "      <td>False</td>\n",
              "      <td>False</td>\n",
              "      <td>False</td>\n",
              "      <td>False</td>\n",
              "      <td>False</td>\n",
              "      <td>False</td>\n",
              "      <td>True</td>\n",
              "      <td>False</td>\n",
              "      <td>Day</td>\n",
              "      <td>Day</td>\n",
              "      <td>Day</td>\n",
              "      <td>Day</td>\n",
              "    </tr>\n",
              "    <tr>\n",
              "      <th>4</th>\n",
              "      <td>A-5</td>\n",
              "      <td>3</td>\n",
              "      <td>2016-08-31 17:40:49</td>\n",
              "      <td>2016-08-31 18:10:49</td>\n",
              "      <td>26.102942</td>\n",
              "      <td>-80.265091</td>\n",
              "      <td>26.102942</td>\n",
              "      <td>-80.265091</td>\n",
              "      <td>0.000</td>\n",
              "      <td>Accident on I-595 Westbound at Exit 4 / Pine I...</td>\n",
              "      <td>NaN</td>\n",
              "      <td>I-595 W</td>\n",
              "      <td>R</td>\n",
              "      <td>Fort Lauderdale</td>\n",
              "      <td>Broward</td>\n",
              "      <td>FL</td>\n",
              "      <td>33324</td>\n",
              "      <td>US</td>\n",
              "      <td>US/Eastern</td>\n",
              "      <td>KHWO</td>\n",
              "      <td>2016-08-31 17:53:00</td>\n",
              "      <td>84.2</td>\n",
              "      <td>NaN</td>\n",
              "      <td>84.0</td>\n",
              "      <td>29.92</td>\n",
              "      <td>10.0</td>\n",
              "      <td>SSE</td>\n",
              "      <td>13.8</td>\n",
              "      <td>NaN</td>\n",
              "      <td>Overcast</td>\n",
              "      <td>False</td>\n",
              "      <td>False</td>\n",
              "      <td>False</td>\n",
              "      <td>False</td>\n",
              "      <td>True</td>\n",
              "      <td>False</td>\n",
              "      <td>False</td>\n",
              "      <td>False</td>\n",
              "      <td>False</td>\n",
              "      <td>False</td>\n",
              "      <td>False</td>\n",
              "      <td>True</td>\n",
              "      <td>False</td>\n",
              "      <td>Day</td>\n",
              "      <td>Day</td>\n",
              "      <td>Day</td>\n",
              "      <td>Day</td>\n",
              "    </tr>\n",
              "    <tr>\n",
              "      <th>...</th>\n",
              "      <td>...</td>\n",
              "      <td>...</td>\n",
              "      <td>...</td>\n",
              "      <td>...</td>\n",
              "      <td>...</td>\n",
              "      <td>...</td>\n",
              "      <td>...</td>\n",
              "      <td>...</td>\n",
              "      <td>...</td>\n",
              "      <td>...</td>\n",
              "      <td>...</td>\n",
              "      <td>...</td>\n",
              "      <td>...</td>\n",
              "      <td>...</td>\n",
              "      <td>...</td>\n",
              "      <td>...</td>\n",
              "      <td>...</td>\n",
              "      <td>...</td>\n",
              "      <td>...</td>\n",
              "      <td>...</td>\n",
              "      <td>...</td>\n",
              "      <td>...</td>\n",
              "      <td>...</td>\n",
              "      <td>...</td>\n",
              "      <td>...</td>\n",
              "      <td>...</td>\n",
              "      <td>...</td>\n",
              "      <td>...</td>\n",
              "      <td>...</td>\n",
              "      <td>...</td>\n",
              "      <td>...</td>\n",
              "      <td>...</td>\n",
              "      <td>...</td>\n",
              "      <td>...</td>\n",
              "      <td>...</td>\n",
              "      <td>...</td>\n",
              "      <td>...</td>\n",
              "      <td>...</td>\n",
              "      <td>...</td>\n",
              "      <td>...</td>\n",
              "      <td>...</td>\n",
              "      <td>...</td>\n",
              "      <td>...</td>\n",
              "      <td>...</td>\n",
              "      <td>...</td>\n",
              "      <td>...</td>\n",
              "      <td>...</td>\n",
              "    </tr>\n",
              "    <tr>\n",
              "      <th>2906605</th>\n",
              "      <td>A-2906606</td>\n",
              "      <td>2</td>\n",
              "      <td>2018-06-28 08:49:01</td>\n",
              "      <td>2018-06-28 09:18:51</td>\n",
              "      <td>29.813824</td>\n",
              "      <td>-95.399437</td>\n",
              "      <td>29.813824</td>\n",
              "      <td>-95.399437</td>\n",
              "      <td>0.000</td>\n",
              "      <td>Accident on 30th St at Yale St.</td>\n",
              "      <td>3001.0</td>\n",
              "      <td>Yale St</td>\n",
              "      <td>L</td>\n",
              "      <td>Houston</td>\n",
              "      <td>Harris</td>\n",
              "      <td>TX</td>\n",
              "      <td>77018-8433</td>\n",
              "      <td>US</td>\n",
              "      <td>US/Central</td>\n",
              "      <td>KMCJ</td>\n",
              "      <td>2018-06-28 08:35:00</td>\n",
              "      <td>84.2</td>\n",
              "      <td>NaN</td>\n",
              "      <td>70.0</td>\n",
              "      <td>30.02</td>\n",
              "      <td>9.0</td>\n",
              "      <td>Variable</td>\n",
              "      <td>5.8</td>\n",
              "      <td>NaN</td>\n",
              "      <td>Clear</td>\n",
              "      <td>False</td>\n",
              "      <td>False</td>\n",
              "      <td>False</td>\n",
              "      <td>False</td>\n",
              "      <td>False</td>\n",
              "      <td>False</td>\n",
              "      <td>False</td>\n",
              "      <td>False</td>\n",
              "      <td>False</td>\n",
              "      <td>True</td>\n",
              "      <td>False</td>\n",
              "      <td>False</td>\n",
              "      <td>False</td>\n",
              "      <td>Day</td>\n",
              "      <td>Day</td>\n",
              "      <td>Day</td>\n",
              "      <td>Day</td>\n",
              "    </tr>\n",
              "    <tr>\n",
              "      <th>2906606</th>\n",
              "      <td>A-2906607</td>\n",
              "      <td>2</td>\n",
              "      <td>2019-01-10 02:01:01</td>\n",
              "      <td>2019-01-10 02:30:32</td>\n",
              "      <td>34.068890</td>\n",
              "      <td>-117.342010</td>\n",
              "      <td>34.068890</td>\n",
              "      <td>-117.342010</td>\n",
              "      <td>0.000</td>\n",
              "      <td>At Valley Blvd - Accident.</td>\n",
              "      <td>NaN</td>\n",
              "      <td>Cypress Ave</td>\n",
              "      <td>R</td>\n",
              "      <td>Colton</td>\n",
              "      <td>San Bernardino</td>\n",
              "      <td>CA</td>\n",
              "      <td>92324</td>\n",
              "      <td>US</td>\n",
              "      <td>US/Pacific</td>\n",
              "      <td>KSBD</td>\n",
              "      <td>2019-01-10 02:00:00</td>\n",
              "      <td>46.9</td>\n",
              "      <td>NaN</td>\n",
              "      <td>74.0</td>\n",
              "      <td>30.14</td>\n",
              "      <td>10.0</td>\n",
              "      <td>Calm</td>\n",
              "      <td>NaN</td>\n",
              "      <td>NaN</td>\n",
              "      <td>Clear</td>\n",
              "      <td>False</td>\n",
              "      <td>False</td>\n",
              "      <td>False</td>\n",
              "      <td>False</td>\n",
              "      <td>False</td>\n",
              "      <td>False</td>\n",
              "      <td>False</td>\n",
              "      <td>False</td>\n",
              "      <td>False</td>\n",
              "      <td>False</td>\n",
              "      <td>False</td>\n",
              "      <td>False</td>\n",
              "      <td>False</td>\n",
              "      <td>Night</td>\n",
              "      <td>Night</td>\n",
              "      <td>Night</td>\n",
              "      <td>Night</td>\n",
              "    </tr>\n",
              "    <tr>\n",
              "      <th>2906607</th>\n",
              "      <td>A-2906608</td>\n",
              "      <td>2</td>\n",
              "      <td>2020-11-23 12:52:00</td>\n",
              "      <td>2020-11-24 00:47:37</td>\n",
              "      <td>25.702200</td>\n",
              "      <td>-80.335556</td>\n",
              "      <td>25.703040</td>\n",
              "      <td>-80.334099</td>\n",
              "      <td>0.108</td>\n",
              "      <td>Stationary traffic on County Hwy-913 - FL-986 ...</td>\n",
              "      <td>8798.0</td>\n",
              "      <td>SW 72nd St</td>\n",
              "      <td>L</td>\n",
              "      <td>Miami</td>\n",
              "      <td>Miami-Dade</td>\n",
              "      <td>FL</td>\n",
              "      <td>33173-3512</td>\n",
              "      <td>US</td>\n",
              "      <td>US/Eastern</td>\n",
              "      <td>KTMB</td>\n",
              "      <td>2020-11-23 12:53:00</td>\n",
              "      <td>76.0</td>\n",
              "      <td>76.0</td>\n",
              "      <td>85.0</td>\n",
              "      <td>30.00</td>\n",
              "      <td>10.0</td>\n",
              "      <td>NNW</td>\n",
              "      <td>16.0</td>\n",
              "      <td>0.0</td>\n",
              "      <td>Mostly Cloudy</td>\n",
              "      <td>False</td>\n",
              "      <td>False</td>\n",
              "      <td>False</td>\n",
              "      <td>False</td>\n",
              "      <td>False</td>\n",
              "      <td>False</td>\n",
              "      <td>False</td>\n",
              "      <td>False</td>\n",
              "      <td>False</td>\n",
              "      <td>False</td>\n",
              "      <td>False</td>\n",
              "      <td>False</td>\n",
              "      <td>False</td>\n",
              "      <td>Day</td>\n",
              "      <td>Day</td>\n",
              "      <td>Day</td>\n",
              "      <td>Day</td>\n",
              "    </tr>\n",
              "    <tr>\n",
              "      <th>2906608</th>\n",
              "      <td>A-2906609</td>\n",
              "      <td>2</td>\n",
              "      <td>2019-12-29 22:38:00</td>\n",
              "      <td>2019-12-29 23:38:00</td>\n",
              "      <td>40.660140</td>\n",
              "      <td>-111.952460</td>\n",
              "      <td>40.660140</td>\n",
              "      <td>-111.952460</td>\n",
              "      <td>0.000</td>\n",
              "      <td>At UT-266/4700/Exit 15 - Accident.</td>\n",
              "      <td>NaN</td>\n",
              "      <td>I-215 N</td>\n",
              "      <td>R</td>\n",
              "      <td>Salt Lake City</td>\n",
              "      <td>Salt Lake</td>\n",
              "      <td>UT</td>\n",
              "      <td>84129</td>\n",
              "      <td>US</td>\n",
              "      <td>US/Mountain</td>\n",
              "      <td>KU42</td>\n",
              "      <td>2019-12-29 22:54:00</td>\n",
              "      <td>27.0</td>\n",
              "      <td>19.0</td>\n",
              "      <td>81.0</td>\n",
              "      <td>25.81</td>\n",
              "      <td>10.0</td>\n",
              "      <td>SSE</td>\n",
              "      <td>8.0</td>\n",
              "      <td>0.0</td>\n",
              "      <td>Cloudy</td>\n",
              "      <td>False</td>\n",
              "      <td>False</td>\n",
              "      <td>False</td>\n",
              "      <td>False</td>\n",
              "      <td>False</td>\n",
              "      <td>False</td>\n",
              "      <td>False</td>\n",
              "      <td>False</td>\n",
              "      <td>False</td>\n",
              "      <td>False</td>\n",
              "      <td>False</td>\n",
              "      <td>False</td>\n",
              "      <td>False</td>\n",
              "      <td>Night</td>\n",
              "      <td>Night</td>\n",
              "      <td>Night</td>\n",
              "      <td>Night</td>\n",
              "    </tr>\n",
              "    <tr>\n",
              "      <th>2906609</th>\n",
              "      <td>A-2906610</td>\n",
              "      <td>2</td>\n",
              "      <td>2018-03-26 13:35:03</td>\n",
              "      <td>2018-03-26 14:39:00</td>\n",
              "      <td>38.831749</td>\n",
              "      <td>-104.748161</td>\n",
              "      <td>38.831749</td>\n",
              "      <td>-104.748161</td>\n",
              "      <td>0.000</td>\n",
              "      <td>Accident on Murray Blvd at Byron Dr.</td>\n",
              "      <td>NaN</td>\n",
              "      <td>Byron Dr</td>\n",
              "      <td>R</td>\n",
              "      <td>Colorado Springs</td>\n",
              "      <td>El Paso</td>\n",
              "      <td>CO</td>\n",
              "      <td>80916</td>\n",
              "      <td>US</td>\n",
              "      <td>US/Mountain</td>\n",
              "      <td>KCOS</td>\n",
              "      <td>2018-03-26 13:54:00</td>\n",
              "      <td>51.1</td>\n",
              "      <td>NaN</td>\n",
              "      <td>38.0</td>\n",
              "      <td>29.77</td>\n",
              "      <td>10.0</td>\n",
              "      <td>SE</td>\n",
              "      <td>13.8</td>\n",
              "      <td>NaN</td>\n",
              "      <td>Scattered Clouds</td>\n",
              "      <td>False</td>\n",
              "      <td>False</td>\n",
              "      <td>True</td>\n",
              "      <td>False</td>\n",
              "      <td>False</td>\n",
              "      <td>False</td>\n",
              "      <td>False</td>\n",
              "      <td>False</td>\n",
              "      <td>False</td>\n",
              "      <td>False</td>\n",
              "      <td>False</td>\n",
              "      <td>True</td>\n",
              "      <td>False</td>\n",
              "      <td>Day</td>\n",
              "      <td>Day</td>\n",
              "      <td>Day</td>\n",
              "      <td>Day</td>\n",
              "    </tr>\n",
              "  </tbody>\n",
              "</table>\n",
              "<p>2906610 rows × 47 columns</p>\n",
              "</div>"
            ],
            "text/plain": [
              "                ID  Severity  ... Nautical_Twilight Astronomical_Twilight\n",
              "0              A-1         2  ...               Day                   Day\n",
              "1              A-2         2  ...               Day                   Day\n",
              "2              A-3         2  ...             Night                 Night\n",
              "3              A-4         2  ...               Day                   Day\n",
              "4              A-5         3  ...               Day                   Day\n",
              "...            ...       ...  ...               ...                   ...\n",
              "2906605  A-2906606         2  ...               Day                   Day\n",
              "2906606  A-2906607         2  ...             Night                 Night\n",
              "2906607  A-2906608         2  ...               Day                   Day\n",
              "2906608  A-2906609         2  ...             Night                 Night\n",
              "2906609  A-2906610         2  ...               Day                   Day\n",
              "\n",
              "[2906610 rows x 47 columns]"
            ]
          },
          "metadata": {
            "tags": []
          },
          "execution_count": 10
        }
      ]
    },
    {
      "cell_type": "code",
      "metadata": {
        "colab": {
          "base_uri": "https://localhost:8080/"
        },
        "id": "Zyvha4mrjmra",
        "outputId": "4d1ccb4c-b951-434b-e264-6a21688a5d6a"
      },
      "source": [
        "df.columns"
      ],
      "execution_count": null,
      "outputs": [
        {
          "output_type": "execute_result",
          "data": {
            "text/plain": [
              "Index(['ID', 'Severity', 'Start_Time', 'End_Time', 'Start_Lat', 'Start_Lng',\n",
              "       'End_Lat', 'End_Lng', 'Distance(mi)', 'Description', 'Number', 'Street',\n",
              "       'Side', 'City', 'County', 'State', 'Zipcode', 'Country', 'Timezone',\n",
              "       'Airport_Code', 'Weather_Timestamp', 'Temperature(F)', 'Wind_Chill(F)',\n",
              "       'Humidity(%)', 'Pressure(in)', 'Visibility(mi)', 'Wind_Direction',\n",
              "       'Wind_Speed(mph)', 'Precipitation(in)', 'Weather_Condition', 'Amenity',\n",
              "       'Bump', 'Crossing', 'Give_Way', 'Junction', 'No_Exit', 'Railway',\n",
              "       'Roundabout', 'Station', 'Stop', 'Traffic_Calming', 'Traffic_Signal',\n",
              "       'Turning_Loop', 'Sunrise_Sunset', 'Civil_Twilight', 'Nautical_Twilight',\n",
              "       'Astronomical_Twilight'],\n",
              "      dtype='object')"
            ]
          },
          "metadata": {
            "tags": []
          },
          "execution_count": 11
        }
      ]
    },
    {
      "cell_type": "code",
      "metadata": {
        "colab": {
          "base_uri": "https://localhost:8080/"
        },
        "id": "U0QPG7rqjmcp",
        "outputId": "60889be3-357c-4cfa-fa45-edd63650a624"
      },
      "source": [
        "df.info()"
      ],
      "execution_count": null,
      "outputs": [
        {
          "output_type": "stream",
          "text": [
            "<class 'pandas.core.frame.DataFrame'>\n",
            "RangeIndex: 2906610 entries, 0 to 2906609\n",
            "Data columns (total 47 columns):\n",
            " #   Column                 Dtype  \n",
            "---  ------                 -----  \n",
            " 0   ID                     object \n",
            " 1   Severity               int64  \n",
            " 2   Start_Time             object \n",
            " 3   End_Time               object \n",
            " 4   Start_Lat              float64\n",
            " 5   Start_Lng              float64\n",
            " 6   End_Lat                float64\n",
            " 7   End_Lng                float64\n",
            " 8   Distance(mi)           float64\n",
            " 9   Description            object \n",
            " 10  Number                 float64\n",
            " 11  Street                 object \n",
            " 12  Side                   object \n",
            " 13  City                   object \n",
            " 14  County                 object \n",
            " 15  State                  object \n",
            " 16  Zipcode                object \n",
            " 17  Country                object \n",
            " 18  Timezone               object \n",
            " 19  Airport_Code           object \n",
            " 20  Weather_Timestamp      object \n",
            " 21  Temperature(F)         float64\n",
            " 22  Wind_Chill(F)          float64\n",
            " 23  Humidity(%)            float64\n",
            " 24  Pressure(in)           float64\n",
            " 25  Visibility(mi)         float64\n",
            " 26  Wind_Direction         object \n",
            " 27  Wind_Speed(mph)        float64\n",
            " 28  Precipitation(in)      float64\n",
            " 29  Weather_Condition      object \n",
            " 30  Amenity                bool   \n",
            " 31  Bump                   bool   \n",
            " 32  Crossing               bool   \n",
            " 33  Give_Way               bool   \n",
            " 34  Junction               bool   \n",
            " 35  No_Exit                bool   \n",
            " 36  Railway                bool   \n",
            " 37  Roundabout             bool   \n",
            " 38  Station                bool   \n",
            " 39  Stop                   bool   \n",
            " 40  Traffic_Calming        bool   \n",
            " 41  Traffic_Signal         bool   \n",
            " 42  Turning_Loop           bool   \n",
            " 43  Sunrise_Sunset         object \n",
            " 44  Civil_Twilight         object \n",
            " 45  Nautical_Twilight      object \n",
            " 46  Astronomical_Twilight  object \n",
            "dtypes: bool(13), float64(13), int64(1), object(20)\n",
            "memory usage: 790.0+ MB\n"
          ],
          "name": "stdout"
        }
      ]
    },
    {
      "cell_type": "code",
      "metadata": {
        "colab": {
          "base_uri": "https://localhost:8080/",
          "height": 315
        },
        "id": "NPACP0v6ppWd",
        "outputId": "d7e01d17-54f0-4041-c321-c065908e825e"
      },
      "source": [
        "df.describe()"
      ],
      "execution_count": null,
      "outputs": [
        {
          "output_type": "execute_result",
          "data": {
            "text/html": [
              "<div>\n",
              "<style scoped>\n",
              "    .dataframe tbody tr th:only-of-type {\n",
              "        vertical-align: middle;\n",
              "    }\n",
              "\n",
              "    .dataframe tbody tr th {\n",
              "        vertical-align: top;\n",
              "    }\n",
              "\n",
              "    .dataframe thead th {\n",
              "        text-align: right;\n",
              "    }\n",
              "</style>\n",
              "<table border=\"1\" class=\"dataframe\">\n",
              "  <thead>\n",
              "    <tr style=\"text-align: right;\">\n",
              "      <th></th>\n",
              "      <th>Severity</th>\n",
              "      <th>Start_Lat</th>\n",
              "      <th>Start_Lng</th>\n",
              "      <th>End_Lat</th>\n",
              "      <th>End_Lng</th>\n",
              "      <th>Distance(mi)</th>\n",
              "      <th>Number</th>\n",
              "      <th>Temperature(F)</th>\n",
              "      <th>Wind_Chill(F)</th>\n",
              "      <th>Humidity(%)</th>\n",
              "      <th>Pressure(in)</th>\n",
              "      <th>Visibility(mi)</th>\n",
              "      <th>Wind_Speed(mph)</th>\n",
              "      <th>Precipitation(in)</th>\n",
              "    </tr>\n",
              "  </thead>\n",
              "  <tbody>\n",
              "    <tr>\n",
              "      <th>count</th>\n",
              "      <td>2.906610e+06</td>\n",
              "      <td>2.906610e+06</td>\n",
              "      <td>2.906610e+06</td>\n",
              "      <td>2.623789e+06</td>\n",
              "      <td>2.623789e+06</td>\n",
              "      <td>2.906610e+06</td>\n",
              "      <td>1.014938e+06</td>\n",
              "      <td>2.839386e+06</td>\n",
              "      <td>1.722751e+06</td>\n",
              "      <td>2.835340e+06</td>\n",
              "      <td>2.849702e+06</td>\n",
              "      <td>2.834532e+06</td>\n",
              "      <td>2.599447e+06</td>\n",
              "      <td>1.605284e+06</td>\n",
              "    </tr>\n",
              "    <tr>\n",
              "      <th>mean</th>\n",
              "      <td>2.288649e+00</td>\n",
              "      <td>3.653027e+01</td>\n",
              "      <td>-9.642676e+01</td>\n",
              "      <td>3.651733e+01</td>\n",
              "      <td>-9.620367e+01</td>\n",
              "      <td>3.980541e-01</td>\n",
              "      <td>6.789728e+03</td>\n",
              "      <td>6.098873e+01</td>\n",
              "      <td>5.499048e+01</td>\n",
              "      <td>6.537758e+01</td>\n",
              "      <td>2.965685e+01</td>\n",
              "      <td>9.116766e+00</td>\n",
              "      <td>7.818111e+00</td>\n",
              "      <td>1.119459e-02</td>\n",
              "    </tr>\n",
              "    <tr>\n",
              "      <th>std</th>\n",
              "      <td>5.541618e-01</td>\n",
              "      <td>5.013964e+00</td>\n",
              "      <td>1.775412e+01</td>\n",
              "      <td>5.016609e+00</td>\n",
              "      <td>1.765971e+01</td>\n",
              "      <td>1.592556e+00</td>\n",
              "      <td>1.697225e+04</td>\n",
              "      <td>1.845258e+01</td>\n",
              "      <td>2.219542e+01</td>\n",
              "      <td>2.287854e+01</td>\n",
              "      <td>9.094133e-01</td>\n",
              "      <td>2.837271e+00</td>\n",
              "      <td>5.431171e+00</td>\n",
              "      <td>1.540812e-01</td>\n",
              "    </tr>\n",
              "    <tr>\n",
              "      <th>min</th>\n",
              "      <td>1.000000e+00</td>\n",
              "      <td>2.455527e+01</td>\n",
              "      <td>-1.246238e+02</td>\n",
              "      <td>2.455527e+01</td>\n",
              "      <td>-1.246238e+02</td>\n",
              "      <td>0.000000e+00</td>\n",
              "      <td>0.000000e+00</td>\n",
              "      <td>-8.900000e+01</td>\n",
              "      <td>-8.900000e+01</td>\n",
              "      <td>1.000000e+00</td>\n",
              "      <td>0.000000e+00</td>\n",
              "      <td>0.000000e+00</td>\n",
              "      <td>0.000000e+00</td>\n",
              "      <td>0.000000e+00</td>\n",
              "    </tr>\n",
              "    <tr>\n",
              "      <th>25%</th>\n",
              "      <td>2.000000e+00</td>\n",
              "      <td>3.366453e+01</td>\n",
              "      <td>-1.178232e+02</td>\n",
              "      <td>3.364659e+01</td>\n",
              "      <td>-1.177020e+02</td>\n",
              "      <td>0.000000e+00</td>\n",
              "      <td>9.650000e+02</td>\n",
              "      <td>4.890000e+01</td>\n",
              "      <td>3.900000e+01</td>\n",
              "      <td>4.900000e+01</td>\n",
              "      <td>2.959000e+01</td>\n",
              "      <td>1.000000e+01</td>\n",
              "      <td>4.600000e+00</td>\n",
              "      <td>0.000000e+00</td>\n",
              "    </tr>\n",
              "    <tr>\n",
              "      <th>50%</th>\n",
              "      <td>2.000000e+00</td>\n",
              "      <td>3.609977e+01</td>\n",
              "      <td>-9.116690e+01</td>\n",
              "      <td>3.605898e+01</td>\n",
              "      <td>-9.105163e+01</td>\n",
              "      <td>0.000000e+00</td>\n",
              "      <td>3.093000e+03</td>\n",
              "      <td>6.300000e+01</td>\n",
              "      <td>5.800000e+01</td>\n",
              "      <td>6.800000e+01</td>\n",
              "      <td>2.992000e+01</td>\n",
              "      <td>1.000000e+01</td>\n",
              "      <td>7.000000e+00</td>\n",
              "      <td>0.000000e+00</td>\n",
              "    </tr>\n",
              "    <tr>\n",
              "      <th>75%</th>\n",
              "      <td>3.000000e+00</td>\n",
              "      <td>4.037505e+01</td>\n",
              "      <td>-8.085814e+01</td>\n",
              "      <td>4.033133e+01</td>\n",
              "      <td>-8.084679e+01</td>\n",
              "      <td>2.790000e-01</td>\n",
              "      <td>7.976000e+03</td>\n",
              "      <td>7.500000e+01</td>\n",
              "      <td>7.200000e+01</td>\n",
              "      <td>8.500000e+01</td>\n",
              "      <td>3.007000e+01</td>\n",
              "      <td>1.000000e+01</td>\n",
              "      <td>1.040000e+01</td>\n",
              "      <td>0.000000e+00</td>\n",
              "    </tr>\n",
              "    <tr>\n",
              "      <th>max</th>\n",
              "      <td>4.000000e+00</td>\n",
              "      <td>4.900220e+01</td>\n",
              "      <td>-6.711317e+01</td>\n",
              "      <td>4.907500e+01</td>\n",
              "      <td>-6.710924e+01</td>\n",
              "      <td>3.336300e+02</td>\n",
              "      <td>9.999997e+06</td>\n",
              "      <td>2.030000e+02</td>\n",
              "      <td>1.740000e+02</td>\n",
              "      <td>1.000000e+02</td>\n",
              "      <td>5.804000e+01</td>\n",
              "      <td>1.400000e+02</td>\n",
              "      <td>9.840000e+02</td>\n",
              "      <td>2.400000e+01</td>\n",
              "    </tr>\n",
              "  </tbody>\n",
              "</table>\n",
              "</div>"
            ],
            "text/plain": [
              "           Severity     Start_Lat  ...  Wind_Speed(mph)  Precipitation(in)\n",
              "count  2.906610e+06  2.906610e+06  ...     2.599447e+06       1.605284e+06\n",
              "mean   2.288649e+00  3.653027e+01  ...     7.818111e+00       1.119459e-02\n",
              "std    5.541618e-01  5.013964e+00  ...     5.431171e+00       1.540812e-01\n",
              "min    1.000000e+00  2.455527e+01  ...     0.000000e+00       0.000000e+00\n",
              "25%    2.000000e+00  3.366453e+01  ...     4.600000e+00       0.000000e+00\n",
              "50%    2.000000e+00  3.609977e+01  ...     7.000000e+00       0.000000e+00\n",
              "75%    3.000000e+00  4.037505e+01  ...     1.040000e+01       0.000000e+00\n",
              "max    4.000000e+00  4.900220e+01  ...     9.840000e+02       2.400000e+01\n",
              "\n",
              "[8 rows x 14 columns]"
            ]
          },
          "metadata": {
            "tags": []
          },
          "execution_count": 13
        }
      ]
    },
    {
      "cell_type": "code",
      "metadata": {
        "colab": {
          "base_uri": "https://localhost:8080/"
        },
        "id": "s3LDRYJNrNjY",
        "outputId": "2b95c5a5-dcc2-484d-e9f0-1f63a291a9fa"
      },
      "source": [
        "numerics = {'int16','int32','int64','float16','float32','float64'}\n",
        "\n",
        "numeric_df = df.select_dtypes(include=numerics)\n",
        "len(numeric_df.columns)"
      ],
      "execution_count": null,
      "outputs": [
        {
          "output_type": "execute_result",
          "data": {
            "text/plain": [
              "14"
            ]
          },
          "metadata": {
            "tags": []
          },
          "execution_count": 14
        }
      ]
    },
    {
      "cell_type": "markdown",
      "metadata": {
        "id": "qOVQGIo7wzmg"
      },
      "source": [
        "##Percentage of missing values per column"
      ]
    },
    {
      "cell_type": "code",
      "metadata": {
        "colab": {
          "base_uri": "https://localhost:8080/",
          "height": 437
        },
        "id": "oSC778o3rNf5",
        "outputId": "c3b8cf53-245b-47fe-c0af-af9f8fbc8800"
      },
      "source": [
        "df.isna()"
      ],
      "execution_count": null,
      "outputs": [
        {
          "output_type": "execute_result",
          "data": {
            "text/html": [
              "<div>\n",
              "<style scoped>\n",
              "    .dataframe tbody tr th:only-of-type {\n",
              "        vertical-align: middle;\n",
              "    }\n",
              "\n",
              "    .dataframe tbody tr th {\n",
              "        vertical-align: top;\n",
              "    }\n",
              "\n",
              "    .dataframe thead th {\n",
              "        text-align: right;\n",
              "    }\n",
              "</style>\n",
              "<table border=\"1\" class=\"dataframe\">\n",
              "  <thead>\n",
              "    <tr style=\"text-align: right;\">\n",
              "      <th></th>\n",
              "      <th>ID</th>\n",
              "      <th>Severity</th>\n",
              "      <th>Start_Time</th>\n",
              "      <th>End_Time</th>\n",
              "      <th>Start_Lat</th>\n",
              "      <th>Start_Lng</th>\n",
              "      <th>End_Lat</th>\n",
              "      <th>End_Lng</th>\n",
              "      <th>Distance(mi)</th>\n",
              "      <th>Description</th>\n",
              "      <th>Number</th>\n",
              "      <th>Street</th>\n",
              "      <th>Side</th>\n",
              "      <th>City</th>\n",
              "      <th>County</th>\n",
              "      <th>State</th>\n",
              "      <th>Zipcode</th>\n",
              "      <th>Country</th>\n",
              "      <th>Timezone</th>\n",
              "      <th>Airport_Code</th>\n",
              "      <th>Weather_Timestamp</th>\n",
              "      <th>Temperature(F)</th>\n",
              "      <th>Wind_Chill(F)</th>\n",
              "      <th>Humidity(%)</th>\n",
              "      <th>Pressure(in)</th>\n",
              "      <th>Visibility(mi)</th>\n",
              "      <th>Wind_Direction</th>\n",
              "      <th>Wind_Speed(mph)</th>\n",
              "      <th>Precipitation(in)</th>\n",
              "      <th>Weather_Condition</th>\n",
              "      <th>Amenity</th>\n",
              "      <th>Bump</th>\n",
              "      <th>Crossing</th>\n",
              "      <th>Give_Way</th>\n",
              "      <th>Junction</th>\n",
              "      <th>No_Exit</th>\n",
              "      <th>Railway</th>\n",
              "      <th>Roundabout</th>\n",
              "      <th>Station</th>\n",
              "      <th>Stop</th>\n",
              "      <th>Traffic_Calming</th>\n",
              "      <th>Traffic_Signal</th>\n",
              "      <th>Turning_Loop</th>\n",
              "      <th>Sunrise_Sunset</th>\n",
              "      <th>Civil_Twilight</th>\n",
              "      <th>Nautical_Twilight</th>\n",
              "      <th>Astronomical_Twilight</th>\n",
              "    </tr>\n",
              "  </thead>\n",
              "  <tbody>\n",
              "    <tr>\n",
              "      <th>0</th>\n",
              "      <td>False</td>\n",
              "      <td>False</td>\n",
              "      <td>False</td>\n",
              "      <td>False</td>\n",
              "      <td>False</td>\n",
              "      <td>False</td>\n",
              "      <td>False</td>\n",
              "      <td>False</td>\n",
              "      <td>False</td>\n",
              "      <td>False</td>\n",
              "      <td>False</td>\n",
              "      <td>False</td>\n",
              "      <td>False</td>\n",
              "      <td>False</td>\n",
              "      <td>False</td>\n",
              "      <td>False</td>\n",
              "      <td>False</td>\n",
              "      <td>False</td>\n",
              "      <td>False</td>\n",
              "      <td>False</td>\n",
              "      <td>False</td>\n",
              "      <td>False</td>\n",
              "      <td>False</td>\n",
              "      <td>False</td>\n",
              "      <td>False</td>\n",
              "      <td>False</td>\n",
              "      <td>False</td>\n",
              "      <td>False</td>\n",
              "      <td>False</td>\n",
              "      <td>False</td>\n",
              "      <td>False</td>\n",
              "      <td>False</td>\n",
              "      <td>False</td>\n",
              "      <td>False</td>\n",
              "      <td>False</td>\n",
              "      <td>False</td>\n",
              "      <td>False</td>\n",
              "      <td>False</td>\n",
              "      <td>False</td>\n",
              "      <td>False</td>\n",
              "      <td>False</td>\n",
              "      <td>False</td>\n",
              "      <td>False</td>\n",
              "      <td>False</td>\n",
              "      <td>False</td>\n",
              "      <td>False</td>\n",
              "      <td>False</td>\n",
              "    </tr>\n",
              "    <tr>\n",
              "      <th>1</th>\n",
              "      <td>False</td>\n",
              "      <td>False</td>\n",
              "      <td>False</td>\n",
              "      <td>False</td>\n",
              "      <td>False</td>\n",
              "      <td>False</td>\n",
              "      <td>False</td>\n",
              "      <td>False</td>\n",
              "      <td>False</td>\n",
              "      <td>False</td>\n",
              "      <td>False</td>\n",
              "      <td>False</td>\n",
              "      <td>False</td>\n",
              "      <td>False</td>\n",
              "      <td>False</td>\n",
              "      <td>False</td>\n",
              "      <td>False</td>\n",
              "      <td>False</td>\n",
              "      <td>False</td>\n",
              "      <td>False</td>\n",
              "      <td>False</td>\n",
              "      <td>False</td>\n",
              "      <td>False</td>\n",
              "      <td>False</td>\n",
              "      <td>False</td>\n",
              "      <td>False</td>\n",
              "      <td>False</td>\n",
              "      <td>False</td>\n",
              "      <td>False</td>\n",
              "      <td>False</td>\n",
              "      <td>False</td>\n",
              "      <td>False</td>\n",
              "      <td>False</td>\n",
              "      <td>False</td>\n",
              "      <td>False</td>\n",
              "      <td>False</td>\n",
              "      <td>False</td>\n",
              "      <td>False</td>\n",
              "      <td>False</td>\n",
              "      <td>False</td>\n",
              "      <td>False</td>\n",
              "      <td>False</td>\n",
              "      <td>False</td>\n",
              "      <td>False</td>\n",
              "      <td>False</td>\n",
              "      <td>False</td>\n",
              "      <td>False</td>\n",
              "    </tr>\n",
              "    <tr>\n",
              "      <th>2</th>\n",
              "      <td>False</td>\n",
              "      <td>False</td>\n",
              "      <td>False</td>\n",
              "      <td>False</td>\n",
              "      <td>False</td>\n",
              "      <td>False</td>\n",
              "      <td>False</td>\n",
              "      <td>False</td>\n",
              "      <td>False</td>\n",
              "      <td>False</td>\n",
              "      <td>True</td>\n",
              "      <td>False</td>\n",
              "      <td>False</td>\n",
              "      <td>False</td>\n",
              "      <td>False</td>\n",
              "      <td>False</td>\n",
              "      <td>False</td>\n",
              "      <td>False</td>\n",
              "      <td>False</td>\n",
              "      <td>False</td>\n",
              "      <td>False</td>\n",
              "      <td>False</td>\n",
              "      <td>False</td>\n",
              "      <td>False</td>\n",
              "      <td>False</td>\n",
              "      <td>False</td>\n",
              "      <td>False</td>\n",
              "      <td>False</td>\n",
              "      <td>False</td>\n",
              "      <td>False</td>\n",
              "      <td>False</td>\n",
              "      <td>False</td>\n",
              "      <td>False</td>\n",
              "      <td>False</td>\n",
              "      <td>False</td>\n",
              "      <td>False</td>\n",
              "      <td>False</td>\n",
              "      <td>False</td>\n",
              "      <td>False</td>\n",
              "      <td>False</td>\n",
              "      <td>False</td>\n",
              "      <td>False</td>\n",
              "      <td>False</td>\n",
              "      <td>False</td>\n",
              "      <td>False</td>\n",
              "      <td>False</td>\n",
              "      <td>False</td>\n",
              "    </tr>\n",
              "    <tr>\n",
              "      <th>3</th>\n",
              "      <td>False</td>\n",
              "      <td>False</td>\n",
              "      <td>False</td>\n",
              "      <td>False</td>\n",
              "      <td>False</td>\n",
              "      <td>False</td>\n",
              "      <td>False</td>\n",
              "      <td>False</td>\n",
              "      <td>False</td>\n",
              "      <td>False</td>\n",
              "      <td>True</td>\n",
              "      <td>False</td>\n",
              "      <td>False</td>\n",
              "      <td>False</td>\n",
              "      <td>False</td>\n",
              "      <td>False</td>\n",
              "      <td>False</td>\n",
              "      <td>False</td>\n",
              "      <td>False</td>\n",
              "      <td>False</td>\n",
              "      <td>False</td>\n",
              "      <td>False</td>\n",
              "      <td>True</td>\n",
              "      <td>False</td>\n",
              "      <td>False</td>\n",
              "      <td>False</td>\n",
              "      <td>False</td>\n",
              "      <td>False</td>\n",
              "      <td>True</td>\n",
              "      <td>False</td>\n",
              "      <td>False</td>\n",
              "      <td>False</td>\n",
              "      <td>False</td>\n",
              "      <td>False</td>\n",
              "      <td>False</td>\n",
              "      <td>False</td>\n",
              "      <td>False</td>\n",
              "      <td>False</td>\n",
              "      <td>False</td>\n",
              "      <td>False</td>\n",
              "      <td>False</td>\n",
              "      <td>False</td>\n",
              "      <td>False</td>\n",
              "      <td>False</td>\n",
              "      <td>False</td>\n",
              "      <td>False</td>\n",
              "      <td>False</td>\n",
              "    </tr>\n",
              "    <tr>\n",
              "      <th>4</th>\n",
              "      <td>False</td>\n",
              "      <td>False</td>\n",
              "      <td>False</td>\n",
              "      <td>False</td>\n",
              "      <td>False</td>\n",
              "      <td>False</td>\n",
              "      <td>False</td>\n",
              "      <td>False</td>\n",
              "      <td>False</td>\n",
              "      <td>False</td>\n",
              "      <td>True</td>\n",
              "      <td>False</td>\n",
              "      <td>False</td>\n",
              "      <td>False</td>\n",
              "      <td>False</td>\n",
              "      <td>False</td>\n",
              "      <td>False</td>\n",
              "      <td>False</td>\n",
              "      <td>False</td>\n",
              "      <td>False</td>\n",
              "      <td>False</td>\n",
              "      <td>False</td>\n",
              "      <td>True</td>\n",
              "      <td>False</td>\n",
              "      <td>False</td>\n",
              "      <td>False</td>\n",
              "      <td>False</td>\n",
              "      <td>False</td>\n",
              "      <td>True</td>\n",
              "      <td>False</td>\n",
              "      <td>False</td>\n",
              "      <td>False</td>\n",
              "      <td>False</td>\n",
              "      <td>False</td>\n",
              "      <td>False</td>\n",
              "      <td>False</td>\n",
              "      <td>False</td>\n",
              "      <td>False</td>\n",
              "      <td>False</td>\n",
              "      <td>False</td>\n",
              "      <td>False</td>\n",
              "      <td>False</td>\n",
              "      <td>False</td>\n",
              "      <td>False</td>\n",
              "      <td>False</td>\n",
              "      <td>False</td>\n",
              "      <td>False</td>\n",
              "    </tr>\n",
              "    <tr>\n",
              "      <th>...</th>\n",
              "      <td>...</td>\n",
              "      <td>...</td>\n",
              "      <td>...</td>\n",
              "      <td>...</td>\n",
              "      <td>...</td>\n",
              "      <td>...</td>\n",
              "      <td>...</td>\n",
              "      <td>...</td>\n",
              "      <td>...</td>\n",
              "      <td>...</td>\n",
              "      <td>...</td>\n",
              "      <td>...</td>\n",
              "      <td>...</td>\n",
              "      <td>...</td>\n",
              "      <td>...</td>\n",
              "      <td>...</td>\n",
              "      <td>...</td>\n",
              "      <td>...</td>\n",
              "      <td>...</td>\n",
              "      <td>...</td>\n",
              "      <td>...</td>\n",
              "      <td>...</td>\n",
              "      <td>...</td>\n",
              "      <td>...</td>\n",
              "      <td>...</td>\n",
              "      <td>...</td>\n",
              "      <td>...</td>\n",
              "      <td>...</td>\n",
              "      <td>...</td>\n",
              "      <td>...</td>\n",
              "      <td>...</td>\n",
              "      <td>...</td>\n",
              "      <td>...</td>\n",
              "      <td>...</td>\n",
              "      <td>...</td>\n",
              "      <td>...</td>\n",
              "      <td>...</td>\n",
              "      <td>...</td>\n",
              "      <td>...</td>\n",
              "      <td>...</td>\n",
              "      <td>...</td>\n",
              "      <td>...</td>\n",
              "      <td>...</td>\n",
              "      <td>...</td>\n",
              "      <td>...</td>\n",
              "      <td>...</td>\n",
              "      <td>...</td>\n",
              "    </tr>\n",
              "    <tr>\n",
              "      <th>2906605</th>\n",
              "      <td>False</td>\n",
              "      <td>False</td>\n",
              "      <td>False</td>\n",
              "      <td>False</td>\n",
              "      <td>False</td>\n",
              "      <td>False</td>\n",
              "      <td>False</td>\n",
              "      <td>False</td>\n",
              "      <td>False</td>\n",
              "      <td>False</td>\n",
              "      <td>False</td>\n",
              "      <td>False</td>\n",
              "      <td>False</td>\n",
              "      <td>False</td>\n",
              "      <td>False</td>\n",
              "      <td>False</td>\n",
              "      <td>False</td>\n",
              "      <td>False</td>\n",
              "      <td>False</td>\n",
              "      <td>False</td>\n",
              "      <td>False</td>\n",
              "      <td>False</td>\n",
              "      <td>True</td>\n",
              "      <td>False</td>\n",
              "      <td>False</td>\n",
              "      <td>False</td>\n",
              "      <td>False</td>\n",
              "      <td>False</td>\n",
              "      <td>True</td>\n",
              "      <td>False</td>\n",
              "      <td>False</td>\n",
              "      <td>False</td>\n",
              "      <td>False</td>\n",
              "      <td>False</td>\n",
              "      <td>False</td>\n",
              "      <td>False</td>\n",
              "      <td>False</td>\n",
              "      <td>False</td>\n",
              "      <td>False</td>\n",
              "      <td>False</td>\n",
              "      <td>False</td>\n",
              "      <td>False</td>\n",
              "      <td>False</td>\n",
              "      <td>False</td>\n",
              "      <td>False</td>\n",
              "      <td>False</td>\n",
              "      <td>False</td>\n",
              "    </tr>\n",
              "    <tr>\n",
              "      <th>2906606</th>\n",
              "      <td>False</td>\n",
              "      <td>False</td>\n",
              "      <td>False</td>\n",
              "      <td>False</td>\n",
              "      <td>False</td>\n",
              "      <td>False</td>\n",
              "      <td>False</td>\n",
              "      <td>False</td>\n",
              "      <td>False</td>\n",
              "      <td>False</td>\n",
              "      <td>True</td>\n",
              "      <td>False</td>\n",
              "      <td>False</td>\n",
              "      <td>False</td>\n",
              "      <td>False</td>\n",
              "      <td>False</td>\n",
              "      <td>False</td>\n",
              "      <td>False</td>\n",
              "      <td>False</td>\n",
              "      <td>False</td>\n",
              "      <td>False</td>\n",
              "      <td>False</td>\n",
              "      <td>True</td>\n",
              "      <td>False</td>\n",
              "      <td>False</td>\n",
              "      <td>False</td>\n",
              "      <td>False</td>\n",
              "      <td>True</td>\n",
              "      <td>True</td>\n",
              "      <td>False</td>\n",
              "      <td>False</td>\n",
              "      <td>False</td>\n",
              "      <td>False</td>\n",
              "      <td>False</td>\n",
              "      <td>False</td>\n",
              "      <td>False</td>\n",
              "      <td>False</td>\n",
              "      <td>False</td>\n",
              "      <td>False</td>\n",
              "      <td>False</td>\n",
              "      <td>False</td>\n",
              "      <td>False</td>\n",
              "      <td>False</td>\n",
              "      <td>False</td>\n",
              "      <td>False</td>\n",
              "      <td>False</td>\n",
              "      <td>False</td>\n",
              "    </tr>\n",
              "    <tr>\n",
              "      <th>2906607</th>\n",
              "      <td>False</td>\n",
              "      <td>False</td>\n",
              "      <td>False</td>\n",
              "      <td>False</td>\n",
              "      <td>False</td>\n",
              "      <td>False</td>\n",
              "      <td>False</td>\n",
              "      <td>False</td>\n",
              "      <td>False</td>\n",
              "      <td>False</td>\n",
              "      <td>False</td>\n",
              "      <td>False</td>\n",
              "      <td>False</td>\n",
              "      <td>False</td>\n",
              "      <td>False</td>\n",
              "      <td>False</td>\n",
              "      <td>False</td>\n",
              "      <td>False</td>\n",
              "      <td>False</td>\n",
              "      <td>False</td>\n",
              "      <td>False</td>\n",
              "      <td>False</td>\n",
              "      <td>False</td>\n",
              "      <td>False</td>\n",
              "      <td>False</td>\n",
              "      <td>False</td>\n",
              "      <td>False</td>\n",
              "      <td>False</td>\n",
              "      <td>False</td>\n",
              "      <td>False</td>\n",
              "      <td>False</td>\n",
              "      <td>False</td>\n",
              "      <td>False</td>\n",
              "      <td>False</td>\n",
              "      <td>False</td>\n",
              "      <td>False</td>\n",
              "      <td>False</td>\n",
              "      <td>False</td>\n",
              "      <td>False</td>\n",
              "      <td>False</td>\n",
              "      <td>False</td>\n",
              "      <td>False</td>\n",
              "      <td>False</td>\n",
              "      <td>False</td>\n",
              "      <td>False</td>\n",
              "      <td>False</td>\n",
              "      <td>False</td>\n",
              "    </tr>\n",
              "    <tr>\n",
              "      <th>2906608</th>\n",
              "      <td>False</td>\n",
              "      <td>False</td>\n",
              "      <td>False</td>\n",
              "      <td>False</td>\n",
              "      <td>False</td>\n",
              "      <td>False</td>\n",
              "      <td>False</td>\n",
              "      <td>False</td>\n",
              "      <td>False</td>\n",
              "      <td>False</td>\n",
              "      <td>True</td>\n",
              "      <td>False</td>\n",
              "      <td>False</td>\n",
              "      <td>False</td>\n",
              "      <td>False</td>\n",
              "      <td>False</td>\n",
              "      <td>False</td>\n",
              "      <td>False</td>\n",
              "      <td>False</td>\n",
              "      <td>False</td>\n",
              "      <td>False</td>\n",
              "      <td>False</td>\n",
              "      <td>False</td>\n",
              "      <td>False</td>\n",
              "      <td>False</td>\n",
              "      <td>False</td>\n",
              "      <td>False</td>\n",
              "      <td>False</td>\n",
              "      <td>False</td>\n",
              "      <td>False</td>\n",
              "      <td>False</td>\n",
              "      <td>False</td>\n",
              "      <td>False</td>\n",
              "      <td>False</td>\n",
              "      <td>False</td>\n",
              "      <td>False</td>\n",
              "      <td>False</td>\n",
              "      <td>False</td>\n",
              "      <td>False</td>\n",
              "      <td>False</td>\n",
              "      <td>False</td>\n",
              "      <td>False</td>\n",
              "      <td>False</td>\n",
              "      <td>False</td>\n",
              "      <td>False</td>\n",
              "      <td>False</td>\n",
              "      <td>False</td>\n",
              "    </tr>\n",
              "    <tr>\n",
              "      <th>2906609</th>\n",
              "      <td>False</td>\n",
              "      <td>False</td>\n",
              "      <td>False</td>\n",
              "      <td>False</td>\n",
              "      <td>False</td>\n",
              "      <td>False</td>\n",
              "      <td>False</td>\n",
              "      <td>False</td>\n",
              "      <td>False</td>\n",
              "      <td>False</td>\n",
              "      <td>True</td>\n",
              "      <td>False</td>\n",
              "      <td>False</td>\n",
              "      <td>False</td>\n",
              "      <td>False</td>\n",
              "      <td>False</td>\n",
              "      <td>False</td>\n",
              "      <td>False</td>\n",
              "      <td>False</td>\n",
              "      <td>False</td>\n",
              "      <td>False</td>\n",
              "      <td>False</td>\n",
              "      <td>True</td>\n",
              "      <td>False</td>\n",
              "      <td>False</td>\n",
              "      <td>False</td>\n",
              "      <td>False</td>\n",
              "      <td>False</td>\n",
              "      <td>True</td>\n",
              "      <td>False</td>\n",
              "      <td>False</td>\n",
              "      <td>False</td>\n",
              "      <td>False</td>\n",
              "      <td>False</td>\n",
              "      <td>False</td>\n",
              "      <td>False</td>\n",
              "      <td>False</td>\n",
              "      <td>False</td>\n",
              "      <td>False</td>\n",
              "      <td>False</td>\n",
              "      <td>False</td>\n",
              "      <td>False</td>\n",
              "      <td>False</td>\n",
              "      <td>False</td>\n",
              "      <td>False</td>\n",
              "      <td>False</td>\n",
              "      <td>False</td>\n",
              "    </tr>\n",
              "  </tbody>\n",
              "</table>\n",
              "<p>2906610 rows × 47 columns</p>\n",
              "</div>"
            ],
            "text/plain": [
              "            ID  Severity  ...  Nautical_Twilight  Astronomical_Twilight\n",
              "0        False     False  ...              False                  False\n",
              "1        False     False  ...              False                  False\n",
              "2        False     False  ...              False                  False\n",
              "3        False     False  ...              False                  False\n",
              "4        False     False  ...              False                  False\n",
              "...        ...       ...  ...                ...                    ...\n",
              "2906605  False     False  ...              False                  False\n",
              "2906606  False     False  ...              False                  False\n",
              "2906607  False     False  ...              False                  False\n",
              "2906608  False     False  ...              False                  False\n",
              "2906609  False     False  ...              False                  False\n",
              "\n",
              "[2906610 rows x 47 columns]"
            ]
          },
          "metadata": {
            "tags": []
          },
          "execution_count": 15
        }
      ]
    },
    {
      "cell_type": "code",
      "metadata": {
        "colab": {
          "base_uri": "https://localhost:8080/"
        },
        "id": "KUdx7Kp8rNdO",
        "outputId": "50c36a87-774c-4405-fa8b-dc0fe5ce8495"
      },
      "source": [
        "df.isna().sum()"
      ],
      "execution_count": null,
      "outputs": [
        {
          "output_type": "execute_result",
          "data": {
            "text/plain": [
              "ID                             0\n",
              "Severity                       0\n",
              "Start_Time                     0\n",
              "End_Time                       0\n",
              "Start_Lat                      0\n",
              "Start_Lng                      0\n",
              "End_Lat                   282821\n",
              "End_Lng                   282821\n",
              "Distance(mi)                   0\n",
              "Description                    0\n",
              "Number                   1891672\n",
              "Street                         0\n",
              "Side                           0\n",
              "City                         108\n",
              "County                         0\n",
              "State                          0\n",
              "Zipcode                     1114\n",
              "Country                        0\n",
              "Timezone                    3430\n",
              "Airport_Code                6608\n",
              "Weather_Timestamp          46917\n",
              "Temperature(F)             67224\n",
              "Wind_Chill(F)            1183859\n",
              "Humidity(%)                71270\n",
              "Pressure(in)               56908\n",
              "Visibility(mi)             72078\n",
              "Wind_Direction             63474\n",
              "Wind_Speed(mph)           307163\n",
              "Precipitation(in)        1301326\n",
              "Weather_Condition          71851\n",
              "Amenity                        0\n",
              "Bump                           0\n",
              "Crossing                       0\n",
              "Give_Way                       0\n",
              "Junction                       0\n",
              "No_Exit                        0\n",
              "Railway                        0\n",
              "Roundabout                     0\n",
              "Station                        0\n",
              "Stop                           0\n",
              "Traffic_Calming                0\n",
              "Traffic_Signal                 0\n",
              "Turning_Loop                   0\n",
              "Sunrise_Sunset               110\n",
              "Civil_Twilight               110\n",
              "Nautical_Twilight            110\n",
              "Astronomical_Twilight        110\n",
              "dtype: int64"
            ]
          },
          "metadata": {
            "tags": []
          },
          "execution_count": 16
        }
      ]
    },
    {
      "cell_type": "code",
      "metadata": {
        "colab": {
          "base_uri": "https://localhost:8080/"
        },
        "id": "nVxhObCOrNaa",
        "outputId": "d83073d3-befd-4910-c456-6deebc7967b0"
      },
      "source": [
        "missing_percentages = df.isna().sum().sort_values(ascending=False) / len(df) \n",
        "missing_percentages"
      ],
      "execution_count": null,
      "outputs": [
        {
          "output_type": "execute_result",
          "data": {
            "text/plain": [
              "Number                   0.650817\n",
              "Precipitation(in)        0.447713\n",
              "Wind_Chill(F)            0.407299\n",
              "Wind_Speed(mph)          0.105677\n",
              "End_Lat                  0.097303\n",
              "End_Lng                  0.097303\n",
              "Visibility(mi)           0.024798\n",
              "Weather_Condition        0.024720\n",
              "Humidity(%)              0.024520\n",
              "Temperature(F)           0.023128\n",
              "Wind_Direction           0.021838\n",
              "Pressure(in)             0.019579\n",
              "Weather_Timestamp        0.016141\n",
              "Airport_Code             0.002273\n",
              "Timezone                 0.001180\n",
              "Zipcode                  0.000383\n",
              "Nautical_Twilight        0.000038\n",
              "Astronomical_Twilight    0.000038\n",
              "Civil_Twilight           0.000038\n",
              "Sunrise_Sunset           0.000038\n",
              "City                     0.000037\n",
              "Amenity                  0.000000\n",
              "Severity                 0.000000\n",
              "Start_Time               0.000000\n",
              "End_Time                 0.000000\n",
              "Start_Lat                0.000000\n",
              "Start_Lng                0.000000\n",
              "Distance(mi)             0.000000\n",
              "Description              0.000000\n",
              "Turning_Loop             0.000000\n",
              "Street                   0.000000\n",
              "Side                     0.000000\n",
              "County                   0.000000\n",
              "Bump                     0.000000\n",
              "State                    0.000000\n",
              "Traffic_Signal           0.000000\n",
              "Country                  0.000000\n",
              "Traffic_Calming          0.000000\n",
              "Stop                     0.000000\n",
              "Station                  0.000000\n",
              "Roundabout               0.000000\n",
              "Railway                  0.000000\n",
              "No_Exit                  0.000000\n",
              "Junction                 0.000000\n",
              "Give_Way                 0.000000\n",
              "Crossing                 0.000000\n",
              "ID                       0.000000\n",
              "dtype: float64"
            ]
          },
          "metadata": {
            "tags": []
          },
          "execution_count": 23
        }
      ]
    },
    {
      "cell_type": "code",
      "metadata": {
        "colab": {
          "base_uri": "https://localhost:8080/"
        },
        "id": "1NZmMqMZztUG",
        "outputId": "430309dd-aca1-4c0c-e960-932fca455d23"
      },
      "source": [
        "missing_percentages[missing_percentages != 0]"
      ],
      "execution_count": null,
      "outputs": [
        {
          "output_type": "execute_result",
          "data": {
            "text/plain": [
              "Number                   0.650817\n",
              "Precipitation(in)        0.447713\n",
              "Wind_Chill(F)            0.407299\n",
              "Wind_Speed(mph)          0.105677\n",
              "End_Lat                  0.097303\n",
              "End_Lng                  0.097303\n",
              "Visibility(mi)           0.024798\n",
              "Weather_Condition        0.024720\n",
              "Humidity(%)              0.024520\n",
              "Temperature(F)           0.023128\n",
              "Wind_Direction           0.021838\n",
              "Pressure(in)             0.019579\n",
              "Weather_Timestamp        0.016141\n",
              "Airport_Code             0.002273\n",
              "Timezone                 0.001180\n",
              "Zipcode                  0.000383\n",
              "Nautical_Twilight        0.000038\n",
              "Astronomical_Twilight    0.000038\n",
              "Civil_Twilight           0.000038\n",
              "Sunrise_Sunset           0.000038\n",
              "City                     0.000037\n",
              "dtype: float64"
            ]
          },
          "metadata": {
            "tags": []
          },
          "execution_count": 25
        }
      ]
    },
    {
      "cell_type": "code",
      "metadata": {
        "colab": {
          "base_uri": "https://localhost:8080/",
          "height": 282
        },
        "id": "CLmzIhw6rNXk",
        "outputId": "d4e9c7bd-5ac4-431b-c001-103bc0b9e7e7"
      },
      "source": [
        "missing_percentages[missing_percentages != 0].plot(kind='barh')"
      ],
      "execution_count": null,
      "outputs": [
        {
          "output_type": "execute_result",
          "data": {
            "text/plain": [
              "<matplotlib.axes._subplots.AxesSubplot at 0x7f20f8356e10>"
            ]
          },
          "metadata": {
            "tags": []
          },
          "execution_count": 26
        },
        {
          "output_type": "display_data",
          "data": {
            "image/png": "[encoded data removed]",
            "text/plain": [
              "<Figure size 432x288 with 1 Axes>"
            ]
          },
          "metadata": {
            "tags": [],
            "needs_background": "light"
          }
        }
      ]
    },
    {
      "cell_type": "markdown",
      "metadata": {
        "id": "fALw6rOm0xHF"
      },
      "source": [
        "##Exploratory Analysis and Visiualization\n",
        "\n",
        "columns we will analyze:\n",
        "\n",
        "1.city\n",
        "2.start time\n",
        "3.start lat,start long\n",
        "4.Temperature\n",
        "5.weather condition\n"
      ]
    },
    {
      "cell_type": "code",
      "metadata": {
        "colab": {
          "base_uri": "https://localhost:8080/"
        },
        "id": "ex1aRVSfrNVz",
        "outputId": "ef94205d-8083-4b9a-bd33-44b84c54501c"
      },
      "source": [
        "df.City"
      ],
      "execution_count": null,
      "outputs": [
        {
          "output_type": "execute_result",
          "data": {
            "text/plain": [
              "0                Greenville\n",
              "1                 Charlotte\n",
              "2                 Los Gatos\n",
              "3               Carson City\n",
              "4           Fort Lauderdale\n",
              "                 ...       \n",
              "2906605             Houston\n",
              "2906606              Colton\n",
              "2906607               Miami\n",
              "2906608      Salt Lake City\n",
              "2906609    Colorado Springs\n",
              "Name: City, Length: 2906610, dtype: object"
            ]
          },
          "metadata": {
            "tags": []
          },
          "execution_count": 27
        }
      ]
    },
    {
      "cell_type": "code",
      "metadata": {
        "colab": {
          "base_uri": "https://localhost:8080/"
        },
        "id": "-PmPo7perNSF",
        "outputId": "8d465e4a-e317-43e1-81d0-43c0f2d471f7"
      },
      "source": [
        "cities = df.City.unique()\n",
        "len(cities)"
      ],
      "execution_count": null,
      "outputs": [
        {
          "output_type": "execute_result",
          "data": {
            "text/plain": [
              "11790"
            ]
          },
          "metadata": {
            "tags": []
          },
          "execution_count": 28
        }
      ]
    },
    {
      "cell_type": "code",
      "metadata": {
        "colab": {
          "base_uri": "https://localhost:8080/"
        },
        "id": "lvjdkyDzrNP5",
        "outputId": "0a1ee351-5a4e-4acb-cbad-2b8f62347c61"
      },
      "source": [
        "cities_by_accident = df.City.value_counts()\n",
        "cities_by_accident"
      ],
      "execution_count": null,
      "outputs": [
        {
          "output_type": "execute_result",
          "data": {
            "text/plain": [
              "Los Angeles         68411\n",
              "Houston             68265\n",
              "Charlotte           56176\n",
              "Miami               49965\n",
              "Dallas              48525\n",
              "                    ...  \n",
              "Kanorado                1\n",
              "Key Colony Beach        1\n",
              "Traer                   1\n",
              "Polebridge              1\n",
              "New Riegel              1\n",
              "Name: City, Length: 11789, dtype: int64"
            ]
          },
          "metadata": {
            "tags": []
          },
          "execution_count": 29
        }
      ]
    },
    {
      "cell_type": "code",
      "metadata": {
        "colab": {
          "base_uri": "https://localhost:8080/"
        },
        "id": "qRfo0fH9rNMa",
        "outputId": "05a9c955-376d-4e7f-ef45-716bb9f35226"
      },
      "source": [
        "cities_by_accident[:10]"
      ],
      "execution_count": null,
      "outputs": [
        {
          "output_type": "execute_result",
          "data": {
            "text/plain": [
              "Los Angeles    68411\n",
              "Houston        68265\n",
              "Charlotte      56176\n",
              "Miami          49965\n",
              "Dallas         48525\n",
              "Austin         38808\n",
              "Raleigh        31355\n",
              "Atlanta        29244\n",
              "Sacramento     28984\n",
              "Orlando        28092\n",
              "Name: City, dtype: int64"
            ]
          },
          "metadata": {
            "tags": []
          },
          "execution_count": 30
        }
      ]
    },
    {
      "cell_type": "code",
      "metadata": {
        "colab": {
          "base_uri": "https://localhost:8080/",
          "height": 282
        },
        "id": "u3XoSDkI4XJf",
        "outputId": "7980cb14-ebb9-4610-a801-c34d2b60af4d"
      },
      "source": [
        "cities_by_accident[:10].plot(kind='barh')"
      ],
      "execution_count": null,
      "outputs": [
        {
          "output_type": "execute_result",
          "data": {
            "text/plain": [
              "<matplotlib.axes._subplots.AxesSubplot at 0x7f20e2699850>"
            ]
          },
          "metadata": {
            "tags": []
          },
          "execution_count": 33
        },
        {
          "output_type": "display_data",
          "data": {
            "image/png": "[encoded data removed]",
            "text/plain": [
              "<Figure size 432x288 with 1 Axes>"
            ]
          },
          "metadata": {
            "tags": [],
            "needs_background": "light"
          }
        }
      ]
    },
    {
      "cell_type": "code",
      "metadata": {
        "colab": {
          "base_uri": "https://localhost:8080/"
        },
        "id": "yz3a0qpN-YXp",
        "outputId": "23bc769a-bcce-4044-fc0b-111ef32fba5e"
      },
      "source": [
        "cities_by_accident['New York']"
      ],
      "execution_count": null,
      "outputs": [
        {
          "output_type": "execute_result",
          "data": {
            "text/plain": [
              "7328"
            ]
          },
          "metadata": {
            "tags": []
          },
          "execution_count": 41
        }
      ]
    },
    {
      "cell_type": "code",
      "metadata": {
        "colab": {
          "base_uri": "https://localhost:8080/"
        },
        "id": "nxSJbbvc-ksG",
        "outputId": "f0935647-d80d-4ebc-bab8-85f965f983de"
      },
      "source": [
        "cities_by_accident['Los Angeles']"
      ],
      "execution_count": null,
      "outputs": [
        {
          "output_type": "execute_result",
          "data": {
            "text/plain": [
              "68411"
            ]
          },
          "metadata": {
            "tags": []
          },
          "execution_count": 42
        }
      ]
    },
    {
      "cell_type": "code",
      "metadata": {
        "id": "o_EjocAK4XG0"
      },
      "source": [
        "import seaborn as sns \n",
        "sns.set_style(\"darkgrid\")"
      ],
      "execution_count": null,
      "outputs": []
    },
    {
      "cell_type": "code",
      "metadata": {
        "colab": {
          "base_uri": "https://localhost:8080/",
          "height": 350
        },
        "id": "_PquPb6D4XD7",
        "outputId": "6e0534b9-983f-4b17-df9d-231fc486056a"
      },
      "source": [
        "sns.distplot(cities_by_accident)"
      ],
      "execution_count": null,
      "outputs": [
        {
          "output_type": "stream",
          "text": [
            "/usr/local/lib/python3.7/dist-packages/seaborn/distributions.py:2557: FutureWarning: `distplot` is a deprecated function and will be removed in a future version. Please adapt your code to use either `displot` (a figure-level function with similar flexibility) or `histplot` (an axes-level function for histograms).\n",
            "  warnings.warn(msg, FutureWarning)\n"
          ],
          "name": "stderr"
        },
        {
          "output_type": "execute_result",
          "data": {
            "text/plain": [
              "<matplotlib.axes._subplots.AxesSubplot at 0x7f20cb7c9490>"
            ]
          },
          "metadata": {
            "tags": []
          },
          "execution_count": 35
        },
        {
          "output_type": "display_data",
          "data": {
            "image/png": "[encoded data removed]",
            "text/plain": [
              "<Figure size 432x288 with 1 Axes>"
            ]
          },
          "metadata": {
            "tags": []
          }
        }
      ]
    },
    {
      "cell_type": "code",
      "metadata": {
        "id": "pJO0zx5Z6TDH"
      },
      "source": [
        "high_accident_cities=cities_by_accident[cities_by_accident >=1000]\n",
        "low_accident_cities=cities_by_accident[cities_by_accident < 1000]"
      ],
      "execution_count": null,
      "outputs": []
    },
    {
      "cell_type": "code",
      "metadata": {
        "colab": {
          "base_uri": "https://localhost:8080/"
        },
        "id": "LTOYQ7sc6xFr",
        "outputId": "72624de0-edef-43b8-c0c5-b00aac89095e"
      },
      "source": [
        "len(high_accident_cities)"
      ],
      "execution_count": null,
      "outputs": [
        {
          "output_type": "execute_result",
          "data": {
            "text/plain": [
              "513"
            ]
          },
          "metadata": {
            "tags": []
          },
          "execution_count": 37
        }
      ]
    },
    {
      "cell_type": "code",
      "metadata": {
        "colab": {
          "base_uri": "https://localhost:8080/"
        },
        "id": "J09KNEf36xC6",
        "outputId": "39f55e76-3af5-40c9-aa40-6e30ed0064df"
      },
      "source": [
        "len(high_accident_cities)/len(cities)"
      ],
      "execution_count": null,
      "outputs": [
        {
          "output_type": "execute_result",
          "data": {
            "text/plain": [
              "0.04351145038167939"
            ]
          },
          "metadata": {
            "tags": []
          },
          "execution_count": 38
        }
      ]
    },
    {
      "cell_type": "code",
      "metadata": {
        "colab": {
          "base_uri": "https://localhost:8080/",
          "height": 350
        },
        "id": "HlVNRg8p6TAd",
        "outputId": "1dc2a07d-c76e-4dfa-9245-8fe0df3b9b8d"
      },
      "source": [
        "sns.distplot(high_accident_cities)"
      ],
      "execution_count": null,
      "outputs": [
        {
          "output_type": "stream",
          "text": [
            "/usr/local/lib/python3.7/dist-packages/seaborn/distributions.py:2557: FutureWarning: `distplot` is a deprecated function and will be removed in a future version. Please adapt your code to use either `displot` (a figure-level function with similar flexibility) or `histplot` (an axes-level function for histograms).\n",
            "  warnings.warn(msg, FutureWarning)\n"
          ],
          "name": "stderr"
        },
        {
          "output_type": "execute_result",
          "data": {
            "text/plain": [
              "<matplotlib.axes._subplots.AxesSubplot at 0x7f20c969ead0>"
            ]
          },
          "metadata": {
            "tags": []
          },
          "execution_count": 39
        },
        {
          "output_type": "display_data",
          "data": {
            "image/png": "[encoded data removed]",
            "text/plain": [
              "<Figure size 432x288 with 1 Axes>"
            ]
          },
          "metadata": {
            "tags": []
          }
        }
      ]
    },
    {
      "cell_type": "code",
      "metadata": {
        "colab": {
          "base_uri": "https://localhost:8080/",
          "height": 350
        },
        "id": "xzgaF_Zw6S93",
        "outputId": "a7692403-55ac-438c-fd94-d0d1dbd48290"
      },
      "source": [
        "sns.distplot(low_accident_cities)"
      ],
      "execution_count": null,
      "outputs": [
        {
          "output_type": "stream",
          "text": [
            "/usr/local/lib/python3.7/dist-packages/seaborn/distributions.py:2557: FutureWarning: `distplot` is a deprecated function and will be removed in a future version. Please adapt your code to use either `displot` (a figure-level function with similar flexibility) or `histplot` (an axes-level function for histograms).\n",
            "  warnings.warn(msg, FutureWarning)\n"
          ],
          "name": "stderr"
        },
        {
          "output_type": "execute_result",
          "data": {
            "text/plain": [
              "<matplotlib.axes._subplots.AxesSubplot at 0x7f20c95eebd0>"
            ]
          },
          "metadata": {
            "tags": []
          },
          "execution_count": 40
        },
        {
          "output_type": "display_data",
          "data": {
            "image/png": "[encoded data removed]",
            "text/plain": [
              "<Figure size 432x288 with 1 Axes>"
            ]
          },
          "metadata": {
            "tags": []
          }
        }
      ]
    },
    {
      "cell_type": "code",
      "metadata": {
        "colab": {
          "base_uri": "https://localhost:8080/"
        },
        "id": "htg_SPb-8mfi",
        "outputId": "b0e3fc9b-5100-499e-e08c-8cee1277f337"
      },
      "source": [
        "cities_by_accident[cities_by_accident==1]"
      ],
      "execution_count": null,
      "outputs": [
        {
          "output_type": "execute_result",
          "data": {
            "text/plain": [
              "Bucklin             1\n",
              "Trilla              1\n",
              "Watersmeet          1\n",
              "Chana               1\n",
              "Leipsic             1\n",
              "                   ..\n",
              "Kanorado            1\n",
              "Key Colony Beach    1\n",
              "Traer               1\n",
              "Polebridge          1\n",
              "New Riegel          1\n",
              "Name: City, Length: 1306, dtype: int64"
            ]
          },
          "metadata": {
            "tags": []
          },
          "execution_count": 45
        }
      ]
    },
    {
      "cell_type": "markdown",
      "metadata": {
        "id": "er-GApNhAutp"
      },
      "source": [
        "### Start Time"
      ]
    },
    {
      "cell_type": "code",
      "metadata": {
        "colab": {
          "base_uri": "https://localhost:8080/"
        },
        "id": "V-9jQvW98mdu",
        "outputId": "82028d5e-1957-4a0e-f16a-1f96a8aad4e0"
      },
      "source": [
        "df.Start_Time"
      ],
      "execution_count": null,
      "outputs": [
        {
          "output_type": "execute_result",
          "data": {
            "text/plain": [
              "0          2019-05-21 08:29:55\n",
              "1          2019-10-07 17:43:09\n",
              "2          2020-12-13 21:53:00\n",
              "3          2018-04-17 16:51:23\n",
              "4          2016-08-31 17:40:49\n",
              "                  ...         \n",
              "2906605    2018-06-28 08:49:01\n",
              "2906606    2019-01-10 02:01:01\n",
              "2906607    2020-11-23 12:52:00\n",
              "2906608    2019-12-29 22:38:00\n",
              "2906609    2018-03-26 13:35:03\n",
              "Name: Start_Time, Length: 2906610, dtype: object"
            ]
          },
          "metadata": {
            "tags": []
          },
          "execution_count": 46
        }
      ]
    },
    {
      "cell_type": "code",
      "metadata": {
        "id": "-bCBGf_v8mcA"
      },
      "source": [
        "df.Start_Time = pd.to_datetime(df.Start_Time) ## was in string format "
      ],
      "execution_count": null,
      "outputs": []
    },
    {
      "cell_type": "code",
      "metadata": {
        "colab": {
          "base_uri": "https://localhost:8080/"
        },
        "id": "OQ1GFe4K8mXF",
        "outputId": "b674986f-bcc7-4641-9457-0b71ef80eef0"
      },
      "source": [
        "df.Start_Time[0]"
      ],
      "execution_count": null,
      "outputs": [
        {
          "output_type": "execute_result",
          "data": {
            "text/plain": [
              "Timestamp('2019-05-21 08:29:55')"
            ]
          },
          "metadata": {
            "tags": []
          },
          "execution_count": 50
        }
      ]
    },
    {
      "cell_type": "code",
      "metadata": {
        "colab": {
          "base_uri": "https://localhost:8080/"
        },
        "id": "A7p40_DgCKja",
        "outputId": "be032d4d-d083-4b47-82a1-90f76ec209e7"
      },
      "source": [
        "df.Start_Time.dt.hour"
      ],
      "execution_count": null,
      "outputs": [
        {
          "output_type": "execute_result",
          "data": {
            "text/plain": [
              "0           8\n",
              "1          17\n",
              "2          21\n",
              "3          16\n",
              "4          17\n",
              "           ..\n",
              "2906605     8\n",
              "2906606     2\n",
              "2906607    12\n",
              "2906608    22\n",
              "2906609    13\n",
              "Name: Start_Time, Length: 2906610, dtype: int64"
            ]
          },
          "metadata": {
            "tags": []
          },
          "execution_count": 51
        }
      ]
    },
    {
      "cell_type": "code",
      "metadata": {
        "colab": {
          "base_uri": "https://localhost:8080/",
          "height": 297
        },
        "id": "j7VLT8YPCKge",
        "outputId": "44aa9718-7df5-487d-b5da-1e9b604ff1da"
      },
      "source": [
        "sns.histplot(df.Start_Time.dt.hour , bins =24)"
      ],
      "execution_count": null,
      "outputs": [
        {
          "output_type": "execute_result",
          "data": {
            "text/plain": [
              "<matplotlib.axes._subplots.AxesSubplot at 0x7f20c91fc050>"
            ]
          },
          "metadata": {
            "tags": []
          },
          "execution_count": 53
        },
        {
          "output_type": "display_data",
          "data": {
            "image/png": "[encoded data removed]",
            "text/plain": [
              "<Figure size 432x288 with 1 Axes>"
            ]
          },
          "metadata": {
            "tags": []
          }
        }
      ]
    },
    {
      "cell_type": "code",
      "metadata": {
        "colab": {
          "base_uri": "https://localhost:8080/",
          "height": 350
        },
        "id": "JiNP5skwCKd0",
        "outputId": "6e33a456-6d09-4f01-f46a-bd623f5d9402"
      },
      "source": [
        "sns.distplot(df.Start_Time.dt.hour , bins =24, kde=False , norm_hist=True) ##norm hist s used to get the %"
      ],
      "execution_count": null,
      "outputs": [
        {
          "output_type": "stream",
          "text": [
            "/usr/local/lib/python3.7/dist-packages/seaborn/distributions.py:2557: FutureWarning: `distplot` is a deprecated function and will be removed in a future version. Please adapt your code to use either `displot` (a figure-level function with similar flexibility) or `histplot` (an axes-level function for histograms).\n",
            "  warnings.warn(msg, FutureWarning)\n"
          ],
          "name": "stderr"
        },
        {
          "output_type": "execute_result",
          "data": {
            "text/plain": [
              "<matplotlib.axes._subplots.AxesSubplot at 0x7f20c9130b90>"
            ]
          },
          "metadata": {
            "tags": []
          },
          "execution_count": 54
        },
        {
          "output_type": "display_data",
          "data": {
            "image/png": "[encoded data removed]",
            "text/plain": [
              "<Figure size 432x288 with 1 Axes>"
            ]
          },
          "metadata": {
            "tags": []
          }
        }
      ]
    },
    {
      "cell_type": "markdown",
      "metadata": {
        "id": "C8_6IiTtITMF"
      },
      "source": [
        "-A high percentage of accidents occur between 7 to 9 am \n",
        "\n",
        "- next highest percentage is 3 pm to 6 pm"
      ]
    },
    {
      "cell_type": "code",
      "metadata": {
        "colab": {
          "base_uri": "https://localhost:8080/",
          "height": 350
        },
        "id": "vrtchDynH4zU",
        "outputId": "aed55ac1-a584-4d3c-d8e5-eaf4c6c7aa1d"
      },
      "source": [
        "sns.distplot(df.Start_Time.dt.dayofweek , bins =7, kde=False , norm_hist=True)"
      ],
      "execution_count": null,
      "outputs": [
        {
          "output_type": "stream",
          "text": [
            "/usr/local/lib/python3.7/dist-packages/seaborn/distributions.py:2557: FutureWarning: `distplot` is a deprecated function and will be removed in a future version. Please adapt your code to use either `displot` (a figure-level function with similar flexibility) or `histplot` (an axes-level function for histograms).\n",
            "  warnings.warn(msg, FutureWarning)\n"
          ],
          "name": "stderr"
        },
        {
          "output_type": "execute_result",
          "data": {
            "text/plain": [
              "<matplotlib.axes._subplots.AxesSubplot at 0x7f20c90bf4d0>"
            ]
          },
          "metadata": {
            "tags": []
          },
          "execution_count": 55
        },
        {
          "output_type": "display_data",
          "data": {
            "image/png": "[encoded data removed]",
            "text/plain": [
              "<Figure size 432x288 with 1 Axes>"
            ]
          },
          "metadata": {
            "tags": []
          }
        }
      ]
    },
    {
      "cell_type": "markdown",
      "metadata": {
        "id": "tazeCUV9Jhor"
      },
      "source": [
        "Is distribution of accidents by hour the same on weekends as on weekdays "
      ]
    },
    {
      "cell_type": "code",
      "metadata": {
        "colab": {
          "base_uri": "https://localhost:8080/",
          "height": 350
        },
        "id": "c5XTl7J1H4wY",
        "outputId": "6502e91f-b283-4781-afb6-1d8bfe5557c6"
      },
      "source": [
        "sundays_start_time = df.Start_Time[df.Start_Time.dt.dayofweek == 6]\n",
        "sns.distplot(sundays_start_time.dt.hour ,bins=24,kde=False ,norm_hist=True)"
      ],
      "execution_count": null,
      "outputs": [
        {
          "output_type": "stream",
          "text": [
            "/usr/local/lib/python3.7/dist-packages/seaborn/distributions.py:2557: FutureWarning: `distplot` is a deprecated function and will be removed in a future version. Please adapt your code to use either `displot` (a figure-level function with similar flexibility) or `histplot` (an axes-level function for histograms).\n",
            "  warnings.warn(msg, FutureWarning)\n"
          ],
          "name": "stderr"
        },
        {
          "output_type": "execute_result",
          "data": {
            "text/plain": [
              "<matplotlib.axes._subplots.AxesSubplot at 0x7f20c8fec650>"
            ]
          },
          "metadata": {
            "tags": []
          },
          "execution_count": 56
        },
        {
          "output_type": "display_data",
          "data": {
            "image/png": "[encoded data removed]",
            "text/plain": [
              "<Figure size 432x288 with 1 Axes>"
            ]
          },
          "metadata": {
            "tags": []
          }
        }
      ]
    },
    {
      "cell_type": "code",
      "metadata": {
        "colab": {
          "base_uri": "https://localhost:8080/",
          "height": 350
        },
        "id": "uHklBlnjH4uJ",
        "outputId": "3a55bbf6-eb45-4282-d3ea-63957ccec7d8"
      },
      "source": [
        "mondays_start_time = df.Start_Time[df.Start_Time.dt.dayofweek == 0]\n",
        "sns.distplot(mondays_start_time.dt.hour ,bins=24,kde=False ,norm_hist=True)"
      ],
      "execution_count": null,
      "outputs": [
        {
          "output_type": "stream",
          "text": [
            "/usr/local/lib/python3.7/dist-packages/seaborn/distributions.py:2557: FutureWarning: `distplot` is a deprecated function and will be removed in a future version. Please adapt your code to use either `displot` (a figure-level function with similar flexibility) or `histplot` (an axes-level function for histograms).\n",
            "  warnings.warn(msg, FutureWarning)\n"
          ],
          "name": "stderr"
        },
        {
          "output_type": "execute_result",
          "data": {
            "text/plain": [
              "<matplotlib.axes._subplots.AxesSubplot at 0x7f20c8f7cc10>"
            ]
          },
          "metadata": {
            "tags": []
          },
          "execution_count": 57
        },
        {
          "output_type": "display_data",
          "data": {
            "image/png": "[encoded data removed]",
            "text/plain": [
              "<Figure size 432x288 with 1 Axes>"
            ]
          },
          "metadata": {
            "tags": []
          }
        }
      ]
    },
    {
      "cell_type": "markdown",
      "metadata": {
        "id": "DoONn7iXMQo6"
      },
      "source": [
        "On sundays , the peak occurs between 10am and 3 pm unlike weekdays"
      ]
    },
    {
      "cell_type": "code",
      "metadata": {
        "colab": {
          "base_uri": "https://localhost:8080/",
          "height": 350
        },
        "id": "9FFhZaH7MZak",
        "outputId": "50dcf9dd-5a01-4ccf-be1d-417943826658"
      },
      "source": [
        "sns.distplot(df.Start_Time.dt.month ,bins=12,kde=False ,norm_hist=True)"
      ],
      "execution_count": null,
      "outputs": [
        {
          "output_type": "stream",
          "text": [
            "/usr/local/lib/python3.7/dist-packages/seaborn/distributions.py:2557: FutureWarning: `distplot` is a deprecated function and will be removed in a future version. Please adapt your code to use either `displot` (a figure-level function with similar flexibility) or `histplot` (an axes-level function for histograms).\n",
            "  warnings.warn(msg, FutureWarning)\n"
          ],
          "name": "stderr"
        },
        {
          "output_type": "execute_result",
          "data": {
            "text/plain": [
              "<matplotlib.axes._subplots.AxesSubplot at 0x7f20f2a09d50>"
            ]
          },
          "metadata": {
            "tags": []
          },
          "execution_count": 61
        },
        {
          "output_type": "display_data",
          "data": {
            "image/png": "[encoded data removed]",
            "text/plain": [
              "<Figure size 432x288 with 1 Axes>"
            ]
          },
          "metadata": {
            "tags": []
          }
        }
      ]
    },
    {
      "cell_type": "code",
      "metadata": {
        "colab": {
          "base_uri": "https://localhost:8080/",
          "height": 353
        },
        "id": "u9a5AsLyMZX0",
        "outputId": "94c55cfb-d54f-4156-96be-f0e81c58f1b7"
      },
      "source": [
        "df_2019 = df[df.Start_Time.dt.year == 2019]\n",
        "sns.distplot(df_2019.Start_Time.dt.month,bins=12 ,kde =False , norm_hist=True)\n"
      ],
      "execution_count": null,
      "outputs": [
        {
          "output_type": "stream",
          "text": [
            "/usr/local/lib/python3.7/dist-packages/seaborn/distributions.py:2557: FutureWarning: `distplot` is a deprecated function and will be removed in a future version. Please adapt your code to use either `displot` (a figure-level function with similar flexibility) or `histplot` (an axes-level function for histograms).\n",
            "  warnings.warn(msg, FutureWarning)\n"
          ],
          "name": "stderr"
        },
        {
          "output_type": "execute_result",
          "data": {
            "text/plain": [
              "<matplotlib.axes._subplots.AxesSubplot at 0x7f20e4b95e90>"
            ]
          },
          "metadata": {
            "tags": []
          },
          "execution_count": 62
        },
        {
          "output_type": "display_data",
          "data": {
            "image/png": "[encoded data removed]",
            "text/plain": [
              "<Figure size 432x288 with 1 Axes>"
            ]
          },
          "metadata": {
            "tags": []
          }
        }
      ]
    },
    {
      "cell_type": "markdown",
      "metadata": {
        "id": "k_rwKwswQluI"
      },
      "source": [
        "###Start Lat n Start Lng"
      ]
    },
    {
      "cell_type": "code",
      "metadata": {
        "colab": {
          "base_uri": "https://localhost:8080/"
        },
        "id": "szel6h-0Pnri",
        "outputId": "d98c495e-9b35-4e3e-c6b5-392c5d18bde2"
      },
      "source": [
        "df.Start_Lat"
      ],
      "execution_count": null,
      "outputs": [
        {
          "output_type": "execute_result",
          "data": {
            "text/plain": [
              "0          34.808868\n",
              "1          35.090080\n",
              "2          37.145730\n",
              "3          39.110390\n",
              "4          26.102942\n",
              "             ...    \n",
              "2906605    29.813824\n",
              "2906606    34.068890\n",
              "2906607    25.702200\n",
              "2906608    40.660140\n",
              "2906609    38.831749\n",
              "Name: Start_Lat, Length: 2906610, dtype: float64"
            ]
          },
          "metadata": {
            "tags": []
          },
          "execution_count": 65
        }
      ]
    },
    {
      "cell_type": "code",
      "metadata": {
        "colab": {
          "base_uri": "https://localhost:8080/"
        },
        "id": "QFWa17ynPno0",
        "outputId": "cc4f90ce-8c85-4f90-a7e1-94f0aa5129a5"
      },
      "source": [
        "df.Start_Lng"
      ],
      "execution_count": null,
      "outputs": [
        {
          "output_type": "execute_result",
          "data": {
            "text/plain": [
              "0          -82.269157\n",
              "1          -80.745560\n",
              "2         -121.985052\n",
              "3         -119.773781\n",
              "4          -80.265091\n",
              "              ...    \n",
              "2906605    -95.399437\n",
              "2906606   -117.342010\n",
              "2906607    -80.335556\n",
              "2906608   -111.952460\n",
              "2906609   -104.748161\n",
              "Name: Start_Lng, Length: 2906610, dtype: float64"
            ]
          },
          "metadata": {
            "tags": []
          },
          "execution_count": 66
        }
      ]
    },
    {
      "cell_type": "code",
      "metadata": {
        "colab": {
          "base_uri": "https://localhost:8080/",
          "height": 299
        },
        "id": "qZhJfamkQ12c",
        "outputId": "758b19db-de82-480f-99f6-c8f62a7dede9"
      },
      "source": [
        "sns.scatterplot(x=df.Start_Lng , y=df.Start_Lat)"
      ],
      "execution_count": null,
      "outputs": [
        {
          "output_type": "execute_result",
          "data": {
            "text/plain": [
              "<matplotlib.axes._subplots.AxesSubplot at 0x7f20e4b19390>"
            ]
          },
          "metadata": {
            "tags": []
          },
          "execution_count": 67
        },
        {
          "output_type": "display_data",
          "data": {
            "image/png": "[encoded data removed]",
            "text/plain": [
              "<Figure size 432x288 with 1 Axes>"
            ]
          },
          "metadata": {
            "tags": []
          }
        }
      ]
    },
    {
      "cell_type": "code",
      "metadata": {
        "id": "MuneMQz7Q1zo"
      },
      "source": [
        "sample_df = df.sample(int(0.01 * len(df)))"
      ],
      "execution_count": null,
      "outputs": []
    },
    {
      "cell_type": "code",
      "metadata": {
        "colab": {
          "base_uri": "https://localhost:8080/",
          "height": 300
        },
        "id": "MFgT2073Q1xT",
        "outputId": "efc9dc33-9b47-4426-b856-50957c29e89e"
      },
      "source": [
        "sns.scatterplot(x=sample_df.Start_Lng ,y =sample_df.Start_Lat ,size=0.00001)"
      ],
      "execution_count": null,
      "outputs": [
        {
          "output_type": "execute_result",
          "data": {
            "text/plain": [
              "<matplotlib.axes._subplots.AxesSubplot at 0x7f20e5110810>"
            ]
          },
          "metadata": {
            "tags": []
          },
          "execution_count": 73
        },
        {
          "output_type": "display_data",
          "data": {
            "image/png": "[encoded data removed]",
            "text/plain": [
              "<Figure size 432x288 with 1 Axes>"
            ]
          },
          "metadata": {
            "tags": []
          }
        }
      ]
    },
    {
      "cell_type": "code",
      "metadata": {
        "id": "vSD2WsDUQ1vJ"
      },
      "source": [
        "import folium"
      ],
      "execution_count": null,
      "outputs": []
    },
    {
      "cell_type": "code",
      "metadata": {
        "colab": {
          "base_uri": "https://localhost:8080/"
        },
        "id": "mSyOsn6MS56K",
        "outputId": "9fa3b054-8927-4dc7-e505-2f21743f3ec7"
      },
      "source": [
        "lat, lon = df.Start_Lat[0], df.Start_Lng[0]\n",
        "lat, lon"
      ],
      "execution_count": null,
      "outputs": [
        {
          "output_type": "execute_result",
          "data": {
            "text/plain": [
              "(34.808868, -82.26915699999998)"
            ]
          },
          "metadata": {
            "tags": []
          },
          "execution_count": 76
        }
      ]
    },
    {
      "cell_type": "code",
      "metadata": {
        "colab": {
          "base_uri": "https://localhost:8080/",
          "height": 541
        },
        "id": "4Yd6GSCWQ1sK",
        "outputId": "80551794-323e-4616-81e9-325a3f5ab220"
      },
      "source": [
        "map = folium.Map()\n",
        "marker = folium.Marker((lat,lon))\n",
        "marker.add_to(map)\n",
        "map"
      ],
      "execution_count": null,
      "outputs": [
        {
          "output_type": "execute_result",
          "data": {
            "text/html": [
              "<div style=\"width:100%;\"><div style=\"position:relative;width:100%;height:0;padding-bottom:60%;\"><span style=\"color:#565656\">Make this Notebook Trusted to load map: File -> Trust Notebook</span><iframe src=\"about:blank\" style=\"position:absolute;width:100%;height:100%;left:0;top:0;border:none !important;\" data-html=%3C%21DOCTYPE%20html%3E%0A%3Chead%3E%20%20%20%20%0A%20%20%20%20%3Cmeta%20http-equiv%3D%22content-type%22%20content%3D%22text/html%3B%20charset%3DUTF-8%22%20/%3E%0A%20%20%20%20%3Cscript%3EL_PREFER_CANVAS%3Dfalse%3B%20L_NO_TOUCH%3Dfalse%3B%20L_DISABLE_3D%3Dfalse%3B%3C/script%3E%0A%20%20%20%20%3Cscript%20src%3D%22https%3A//cdn.jsdelivr.net/npm/leaflet%401.4.0/dist/leaflet.js%22%3E%3C/script%3E%0A%20%20%20%20%3Cscript%20src%3D%22https%3A//code.jquery.com/jquery-1.12.4.min.js%22%3E%3C/script%3E%0A%20%20%20%20%3Cscript%20src%3D%22https%3A//maxcdn.bootstrapcdn.com/bootstrap/3.2.0/js/bootstrap.min.js%22%3E%3C/script%3E%0A%20%20%20%20%3Cscript%20src%3D%22https%3A//cdnjs.cloudflare.com/ajax/libs/Leaflet.awesome-markers/2.0.2/leaflet.awesome-markers.js%22%3E%3C/script%3E%0A%20%20%20%20%3Clink%20rel%3D%22stylesheet%22%20href%3D%22https%3A//cdn.jsdelivr.net/npm/leaflet%401.4.0/dist/leaflet.css%22/%3E%0A%20%20%20%20%3Clink%20rel%3D%22stylesheet%22%20href%3D%22https%3A//maxcdn.bootstrapcdn.com/bootstrap/3.2.0/css/bootstrap.min.css%22/%3E%0A%20%20%20%20%3Clink%20rel%3D%22stylesheet%22%20href%3D%22https%3A//maxcdn.bootstrapcdn.com/bootstrap/3.2.0/css/bootstrap-theme.min.css%22/%3E%0A%20%20%20%20%3Clink%20rel%3D%22stylesheet%22%20href%3D%22https%3A//maxcdn.bootstrapcdn.com/font-awesome/4.6.3/css/font-awesome.min.css%22/%3E%0A%20%20%20%20%3Clink%20rel%3D%22stylesheet%22%20href%3D%22https%3A//cdnjs.cloudflare.com/ajax/libs/Leaflet.awesome-markers/2.0.2/leaflet.awesome-markers.css%22/%3E%0A%20%20%20%20%3Clink%20rel%3D%22stylesheet%22%20href%3D%22https%3A//rawcdn.githack.com/python-visualization/folium/master/folium/templates/leaflet.awesome.rotate.css%22/%3E%0A%20%20%20%20%3Cstyle%3Ehtml%2C%20body%20%7Bwidth%3A%20100%25%3Bheight%3A%20100%25%3Bmargin%3A%200%3Bpadding%3A%200%3B%7D%3C/style%3E%0A%20%20%20%20%3Cstyle%3E%23map%20%7Bposition%3Aabsolute%3Btop%3A0%3Bbottom%3A0%3Bright%3A0%3Bleft%3A0%3B%7D%3C/style%3E%0A%20%20%20%20%0A%20%20%20%20%3Cmeta%20name%3D%22viewport%22%20content%3D%22width%3Ddevice-width%2C%0A%20%20%20%20%20%20%20%20initial-scale%3D1.0%2C%20maximum-scale%3D1.0%2C%20user-scalable%3Dno%22%20/%3E%0A%20%20%20%20%3Cstyle%3E%23map_2c4002a31e2d41949f9d3faa94eddb6e%20%7B%0A%20%20%20%20%20%20%20%20position%3A%20relative%3B%0A%20%20%20%20%20%20%20%20width%3A%20100.0%25%3B%0A%20%20%20%20%20%20%20%20height%3A%20100.0%25%3B%0A%20%20%20%20%20%20%20%20left%3A%200.0%25%3B%0A%20%20%20%20%20%20%20%20top%3A%200.0%25%3B%0A%20%20%20%20%20%20%20%20%7D%0A%20%20%20%20%3C/style%3E%0A%3C/head%3E%0A%3Cbody%3E%20%20%20%20%0A%20%20%20%20%0A%20%20%20%20%3Cdiv%20class%3D%22folium-map%22%20id%3D%22map_2c4002a31e2d41949f9d3faa94eddb6e%22%20%3E%3C/div%3E%0A%3C/body%3E%0A%3Cscript%3E%20%20%20%20%0A%20%20%20%20%0A%20%20%20%20%0A%20%20%20%20%20%20%20%20var%20bounds%20%3D%20null%3B%0A%20%20%20%20%0A%0A%20%20%20%20var%20map_2c4002a31e2d41949f9d3faa94eddb6e%20%3D%20L.map%28%0A%20%20%20%20%20%20%20%20%27map_2c4002a31e2d41949f9d3faa94eddb6e%27%2C%20%7B%0A%20%20%20%20%20%20%20%20center%3A%20%5B0%2C%200%5D%2C%0A%20%20%20%20%20%20%20%20zoom%3A%201%2C%0A%20%20%20%20%20%20%20%20maxBounds%3A%20bounds%2C%0A%20%20%20%20%20%20%20%20layers%3A%20%5B%5D%2C%0A%20%20%20%20%20%20%20%20worldCopyJump%3A%20false%2C%0A%20%20%20%20%20%20%20%20crs%3A%20L.CRS.EPSG3857%2C%0A%20%20%20%20%20%20%20%20zoomControl%3A%20true%2C%0A%20%20%20%20%20%20%20%20%7D%29%3B%0A%0A%0A%20%20%20%20%0A%20%20%20%20var%20tile_layer_7ad808eb236a41c988fa0c1924f7f61f%20%3D%20L.tileLayer%28%0A%20%20%20%20%20%20%20%20%27https%3A//%7Bs%7D.tile.openstreetmap.org/%7Bz%7D/%7Bx%7D/%7By%7D.png%27%2C%0A%20%20%20%20%20%20%20%20%7B%0A%20%20%20%20%20%20%20%20%22attribution%22%3A%20null%2C%0A%20%20%20%20%20%20%20%20%22detectRetina%22%3A%20false%2C%0A%20%20%20%20%20%20%20%20%22maxNativeZoom%22%3A%2018%2C%0A%20%20%20%20%20%20%20%20%22maxZoom%22%3A%2018%2C%0A%20%20%20%20%20%20%20%20%22minZoom%22%3A%200%2C%0A%20%20%20%20%20%20%20%20%22noWrap%22%3A%20false%2C%0A%20%20%20%20%20%20%20%20%22opacity%22%3A%201%2C%0A%20%20%20%20%20%20%20%20%22subdomains%22%3A%20%22abc%22%2C%0A%20%20%20%20%20%20%20%20%22tms%22%3A%20false%0A%7D%29.addTo%28map_2c4002a31e2d41949f9d3faa94eddb6e%29%3B%0A%20%20%20%20%0A%20%20%20%20%20%20%20%20var%20marker_42e38eb2931e42daa7a2e5f16e28b690%20%3D%20L.marker%28%0A%20%20%20%20%20%20%20%20%20%20%20%20%5B34.808868%2C%20-82.26915699999998%5D%2C%0A%20%20%20%20%20%20%20%20%20%20%20%20%7B%0A%20%20%20%20%20%20%20%20%20%20%20%20%20%20%20%20icon%3A%20new%20L.Icon.Default%28%29%2C%0A%20%20%20%20%20%20%20%20%20%20%20%20%20%20%20%20%7D%0A%20%20%20%20%20%20%20%20%20%20%20%20%29.addTo%28map_2c4002a31e2d41949f9d3faa94eddb6e%29%3B%0A%20%20%20%20%20%20%20%20%0A%3C/script%3E onload=\"this.contentDocument.open();this.contentDocument.write(    decodeURIComponent(this.getAttribute('data-html')));this.contentDocument.close();\" allowfullscreen webkitallowfullscreen mozallowfullscreen></iframe></div></div>"
            ],
            "text/plain": [
              "<folium.folium.Map at 0x7f20c656dfd0>"
            ]
          },
          "metadata": {
            "tags": []
          },
          "execution_count": 77
        }
      ]
    },
    {
      "cell_type": "code",
      "metadata": {
        "colab": {
          "base_uri": "https://localhost:8080/"
        },
        "id": "sstzriW-Q1p2",
        "outputId": "8fa60a78-dbea-4227-c0b1-d98d41638a1d"
      },
      "source": [
        "zip(list(df.Start_Lat), list(df.Start_Lng))"
      ],
      "execution_count": null,
      "outputs": [
        {
          "output_type": "execute_result",
          "data": {
            "text/plain": [
              "<zip at 0x7f20c199df50>"
            ]
          },
          "metadata": {
            "tags": []
          },
          "execution_count": 80
        }
      ]
    },
    {
      "cell_type": "code",
      "metadata": {
        "colab": {
          "base_uri": "https://localhost:8080/"
        },
        "id": "Jzb1OIVcPnlr",
        "outputId": "3c95456f-6ffa-4d53-eda7-691b42c47d12"
      },
      "source": [
        "list(zip(list(df.Start_Lat), list(df.Start_Lng)))"
      ],
      "execution_count": null,
      "outputs": [
        {
          "output_type": "execute_result",
          "data": {
            "text/plain": [
              "[(34.808868, -82.26915699999998),\n",
              " (35.09008, -80.74556),\n",
              " (37.14573, -121.985052),\n",
              " (39.11039, -119.773781),\n",
              " (26.102942, -80.265091),\n",
              " (35.34824000000001, -80.84722099999998),\n",
              " (39.52397, -107.777),\n",
              " (34.034017, -118.026972),\n",
              " (35.86349000000001, -86.83168),\n",
              " (34.42633, -118.5851),\n",
              " (28.021709, -82.203583),\n",
              " (40.91221, -73.875099),\n",
              " (32.86693, -96.66617),\n",
              " (32.265141, -110.90358700000002),\n",
              " (41.05982, -74.25092),\n",
              " (29.723339000000006, -95.497337),\n",
              " (34.103172, -118.249969),\n",
              " (34.186595000000004, -117.439427),\n",
              " (42.501929, -82.918056),\n",
              " (41.556862, -73.779556),\n",
              " (33.918056, -84.33802800000002),\n",
              " (35.596561, -78.759743),\n",
              " (29.640491, -95.482445),\n",
              " (37.40691, -79.913933),\n",
              " (40.9122, -73.88461),\n",
              " (37.994461, -122.069885),\n",
              " (32.87109, -80.010628),\n",
              " (30.426109000000004, -97.753906),\n",
              " (33.774159000000004, -118.049783),\n",
              " (43.22039, -85.500961),\n",
              " (25.684458, -80.445924),\n",
              " (43.003693, -78.412064),\n",
              " (39.922646, -86.11689),\n",
              " (30.420996, -91.140549),\n",
              " (35.23932999999999, -80.856415),\n",
              " (35.05473, -80.85037),\n",
              " (34.037781, -117.320625),\n",
              " (37.504467, -77.084549),\n",
              " (33.38548, -111.9432),\n",
              " (43.100197, -77.547005),\n",
              " (40.428002, -79.92677900000002),\n",
              " (38.510303, -121.464525),\n",
              " (42.764778, -73.760338),\n",
              " (28.698406, -82.451477),\n",
              " (32.7584, -97.25763),\n",
              " (40.619857, -122.365844),\n",
              " (33.913502, -118.143219),\n",
              " (44.852409, -93.247139),\n",
              " (29.690945000000006, -95.417068),\n",
              " (34.03542, -118.274465),\n",
              " (26.61341, -80.068784),\n",
              " (42.972679, -85.677254),\n",
              " (25.685477, -80.414796),\n",
              " (46.325429, -94.962033),\n",
              " (39.826813, -84.908905),\n",
              " (38.644922, -121.383059),\n",
              " (35.25935, -80.77776),\n",
              " (40.070709, -83.134422),\n",
              " (38.48819, -77.38915),\n",
              " (37.869022, -77.453568),\n",
              " (43.005009, -83.684975),\n",
              " (42.967983, -85.683899),\n",
              " (42.972506, -73.831128),\n",
              " (34.134365, -117.957603),\n",
              " (40.353738, -74.472659),\n",
              " (32.78758, -96.79058),\n",
              " (31.759741, -106.484001),\n",
              " (32.857914, -96.651512),\n",
              " (30.334675, -81.670998),\n",
              " (33.940923, -117.249238),\n",
              " (28.981974, -81.98734300000002),\n",
              " (33.4737, -112.26643),\n",
              " (32.805706, -117.156586),\n",
              " (38.864871, -76.846793),\n",
              " (41.755451, -72.650444),\n",
              " (37.8945, -122.116587),\n",
              " (39.617117, -120.591355),\n",
              " (36.577457, -121.908821),\n",
              " (33.900101, -84.447914),\n",
              " (42.928024, -83.691177),\n",
              " (39.71571, -84.219994),\n",
              " (41.773296, -87.993965),\n",
              " (37.328154, -121.111046),\n",
              " (44.95075, -93.09934),\n",
              " (34.007862, -117.52449),\n",
              " (26.429920000000006, -80.090312),\n",
              " (35.25833499999999, -80.794762),\n",
              " (38.80037, -77.11725),\n",
              " (35.266849, -119.030632),\n",
              " (38.384973, -75.422516),\n",
              " (37.884749, -122.308882),\n",
              " (44.570877, -92.645325),\n",
              " (40.703041, -73.566048),\n",
              " (43.077332, -77.546585),\n",
              " (29.702297, -95.359451),\n",
              " (41.80175, -88.16736999999998),\n",
              " (40.969318, -73.77409399999998),\n",
              " (35.07973, -90.06555),\n",
              " (42.229309, -88.144798),\n",
              " (40.67361500000001, -73.857185),\n",
              " (34.247787, -118.42585),\n",
              " (37.010113, -94.548073),\n",
              " (39.63915, -75.09758000000002),\n",
              " (45.52641, -122.47999),\n",
              " (33.043757, -111.987923),\n",
              " (32.295361, -111.011978),\n",
              " (41.256569, -95.940956),\n",
              " (40.68459, -73.64304),\n",
              " (29.849245, -95.411613),\n",
              " (39.301532, -121.671249),\n",
              " (34.320664, -118.495922),\n",
              " (35.059368, -85.131248),\n",
              " (34.153442, -118.6521),\n",
              " (39.5652, -104.87226),\n",
              " (44.88001, -93.14115),\n",
              " (40.931221, -73.855896),\n",
              " (43.875922, -95.113021),\n",
              " (38.000336, -121.260314),\n",
              " (38.79095, -121.29229),\n",
              " (42.495152, -82.919205),\n",
              " (37.74219, -121.525634),\n",
              " (34.06514, -118.00026),\n",
              " (33.713829, -112.285217),\n",
              " (35.45930900000001, -97.491463),\n",
              " (29.70736, -95.25416),\n",
              " (33.95966, -81.22747),\n",
              " (35.963348, -79.018662),\n",
              " (33.923618, -98.503296),\n",
              " (34.052890999999995, -117.548149),\n",
              " (34.063072, -118.249306),\n",
              " (40.820934, -78.01289799999998),\n",
              " (40.69675, -111.94854),\n",
              " (35.590382, -78.63269),\n",
              " (43.18084, -77.59918),\n",
              " (37.756392, -122.148785),\n",
              " (25.942696, -80.20109599999998),\n",
              " (38.799801, -77.598946),\n",
              " (40.070331, -75.151593),\n",
              " (39.78436, -105.08863999999998),\n",
              " (45.664909, -122.434761),\n",
              " (34.005801, -118.176035),\n",
              " (39.966751, -76.705742),\n",
              " (34.753899, -86.740997),\n",
              " (33.884048, -118.351929),\n",
              " (38.454845, -120.867759),\n",
              " (34.04821, -118.26597),\n",
              " (40.64525, -75.42576),\n",
              " (39.01001, -122.05225),\n",
              " (32.3116, -80.979507),\n",
              " (36.171581, -86.869011),\n",
              " (34.14112, -118.17972),\n",
              " (33.92638, -118.378448),\n",
              " (30.424627, -97.671585),\n",
              " (34.071883, -117.872309),\n",
              " (44.347912, -88.737572),\n",
              " (42.430195, -71.10301199999998),\n",
              " (45.58187, -122.67851),\n",
              " (41.9589, -71.06367),\n",
              " (35.375984, -118.931871),\n",
              " (30.403622, -81.564785),\n",
              " (34.201108000000005, -118.473406),\n",
              " (38.22317, -122.61118),\n",
              " (47.650143, -122.347412),\n",
              " (46.21548, -123.86201),\n",
              " (25.627335, -80.37943299999998),\n",
              " (39.924939, -86.58699399999998),\n",
              " (38.918324, -76.95503199999997),\n",
              " (43.84918, -84.02081),\n",
              " (26.456837, -80.089449),\n",
              " (41.224018, -96.043098),\n",
              " (41.177315, -73.17304200000002),\n",
              " (39.014515, -77.48455),\n",
              " (30.464523, -90.917725),\n",
              " (45.542439, -122.484029),\n",
              " (34.40578, -88.9207),\n",
              " (38.017952, -121.894058),\n",
              " (30.456015, -97.666321),\n",
              " (41.27264, -72.970589),\n",
              " (45.123852, -93.33902),\n",
              " (34.557976000000004, -118.132591),\n",
              " (39.841164, -75.404449),\n",
              " (34.165503, -118.492347),\n",
              " (45.531761, -122.565521),\n",
              " (38.358604, -121.934029),\n",
              " (35.585209000000006, -97.5672),\n",
              " (27.76623, -82.768204),\n",
              " (40.611329, -111.90618),\n",
              " (35.84600800000001, -78.836472),\n",
              " (33.931194, -117.993202),\n",
              " (40.18096, -74.10131),\n",
              " (33.544922, -81.677643),\n",
              " (37.47018, -121.90886),\n",
              " (35.221828, -80.828453),\n",
              " (29.784912, -95.688347),\n",
              " (44.31172, -93.99379),\n",
              " (32.958290000000005, -97.14342),\n",
              " (32.71983, -117.11757),\n",
              " (39.26285, -76.56695),\n",
              " (33.46147, -112.28829),\n",
              " (40.903866, -74.15786700000002),\n",
              " (33.68363, -117.87666000000002),\n",
              " (34.693901000000004, -82.733963),\n",
              " (29.21297, -81.10059),\n",
              " (34.82976, -82.29406),\n",
              " (39.632698, -104.906487),\n",
              " (42.26919, -83.2251),\n",
              " (39.976933, -75.198631),\n",
              " (38.521811, -78.836011),\n",
              " (38.657713, -121.363862),\n",
              " (39.105335, -94.709862),\n",
              " (37.267, -80.13744200000002),\n",
              " (34.036971, -118.43854),\n",
              " (33.49411, -86.330162),\n",
              " (29.797159000000004, -95.031898),\n",
              " (30.337242, -81.669167),\n",
              " (35.11739, -81.306679),\n",
              " (36.521611, -121.44837),\n",
              " (33.895256, -84.263733),\n",
              " (44.86555, -93.29896),\n",
              " (32.768566, -96.674858),\n",
              " (25.734321, -80.251918),\n",
              " (34.698074, -82.30504599999998),\n",
              " (29.79659, -95.579627),\n",
              " (33.651927, -84.497727),\n",
              " (37.948418, -121.300972),\n",
              " (38.938068, -94.398103),\n",
              " (33.65761, -117.74564),\n",
              " (34.03078, -118.21791),\n",
              " (29.186419, -82.185303),\n",
              " (40.355076, -76.379272),\n",
              " (32.472916, -93.796127),\n",
              " (27.95956, -82.42554),\n",
              " (37.634975, -122.086945),\n",
              " (40.484029, -74.302049),\n",
              " (33.997040000000005, -117.931015),\n",
              " (37.789969, -121.291099),\n",
              " (39.7174, -86.12572),\n",
              " (45.828438, -122.843275),\n",
              " (28.348536, -81.56498),\n",
              " (47.463745, -122.29391499999998),\n",
              " (38.23583, -85.61639),\n",
              " (26.31321, -80.117207),\n",
              " (40.68915300000001, -74.3014),\n",
              " (35.162048, -80.970139),\n",
              " (33.516411, -81.729156),\n",
              " (34.09943, -117.846367),\n",
              " (33.732585, -117.989329),\n",
              " (36.77562, -119.784837),\n",
              " (34.034725, -117.974474),\n",
              " (34.259491, -118.437836),\n",
              " (39.74004, -84.194923),\n",
              " (38.432375, -122.715965),\n",
              " (37.622681, -77.457741),\n",
              " (39.865639, -88.972939),\n",
              " (35.423435, -97.618668),\n",
              " (37.696018, -122.115387),\n",
              " (39.651718, -86.05403100000002),\n",
              " (39.327599, -77.582863),\n",
              " (45.041573, -93.28492),\n",
              " (34.061809000000004, -118.457189),\n",
              " (41.580649, -72.899661),\n",
              " (44.736202, -119.191689),\n",
              " (43.04277, -124.12115),\n",
              " (26.46674, -80.08927),\n",
              " (35.304, -80.84886),\n",
              " (33.89956, -117.47298),\n",
              " (38.008226, -121.871205),\n",
              " (28.285931, -80.608664),\n",
              " (42.385137, -83.280821),\n",
              " (37.620403, -122.425995),\n",
              " (33.908318, -117.882774),\n",
              " (44.144381, -69.925377),\n",
              " (44.030651, -92.488159),\n",
              " (35.496719, -97.601158),\n",
              " (40.817029, -73.836497),\n",
              " (33.994858, -80.958282),\n",
              " (41.597691, -93.718437),\n",
              " (35.557968, -97.638351),\n",
              " (33.461964, -112.151688),\n",
              " (37.64955, -122.45233),\n",
              " (40.654079, -74.007675),\n",
              " (36.34705, -86.87468),\n",
              " (30.466084, -97.844037),\n",
              " (43.043734, -83.723338),\n",
              " (26.70676, -80.11098),\n",
              " (40.196327, -76.108688),\n",
              " (38.562206, -121.487221),\n",
              " (39.062382, -94.6259),\n",
              " (39.343011, -120.337151),\n",
              " (36.175961, -86.76619699999998),\n",
              " (42.94145, -78.76647),\n",
              " (29.734968, -95.347444),\n",
              " (33.946648, -118.368512),\n",
              " (35.551079, -97.565651),\n",
              " (42.36147, -83.07294),\n",
              " (34.14565, -118.75722),\n",
              " (42.397328, -121.36068),\n",
              " (37.54805, -77.35896),\n",
              " (41.17161, -73.191683),\n",
              " (40.79871, -74.189888),\n",
              " (40.247822, -75.635788),\n",
              " (34.433743, -118.385757),\n",
              " (28.66436, -81.38871999999998),\n",
              " (44.11386, -123.18217),\n",
              " (35.094120000000004, -81.854828),\n",
              " (42.167667, -71.937218),\n",
              " (41.877819, -93.571083),\n",
              " (33.535, -112.186234),\n",
              " (40.70396, -111.93896),\n",
              " (33.18652, -97.108223),\n",
              " (34.185817, -118.217363),\n",
              " (38.597375, -121.419965),\n",
              " (39.88203, -86.244186),\n",
              " (40.160965, -76.392044),\n",
              " (34.121311, -117.514503),\n",
              " (38.258007, -85.765343),\n",
              " (39.187038, -77.169777),\n",
              " (34.028813, -117.575703),\n",
              " (42.489758, -73.677544),\n",
              " (34.892540000000004, -82.160202),\n",
              " (33.996331, -117.92722),\n",
              " (40.73724, -73.172539),\n",
              " (38.111683, -85.672958),\n",
              " (43.138062, -77.60041),\n",
              " (33.291782, -111.904217),\n",
              " (34.994781, -81.978729),\n",
              " (42.666294, -73.75489),\n",
              " (44.912191, -122.97781299999998),\n",
              " (30.350527000000003, -97.500694),\n",
              " (33.089451000000004, -117.301628),\n",
              " (34.93185, -81.08152),\n",
              " (26.564581, -81.856346),\n",
              " (38.59085, -121.50469),\n",
              " (32.90871, -96.899732),\n",
              " (34.436634000000005, -82.68933100000002),\n",
              " (38.989737, -76.626846),\n",
              " (34.002491, -118.411911),\n",
              " (40.065258, -75.320206),\n",
              " (37.552776, -77.443588),\n",
              " (29.9518, -90.06726),\n",
              " (34.051727, -80.923485),\n",
              " (34.856169, -82.267323),\n",
              " (30.63799, -90.5242),\n",
              " (34.044212, -118.169844),\n",
              " (38.684384, -121.72836),\n",
              " (45.93963, -123.91922),\n",
              " (28.51001, -81.248032),\n",
              " (42.153564, -87.988268),\n",
              " (39.250969, -76.681099),\n",
              " (39.07931, -94.49073),\n",
              " (30.44211, -91.0401),\n",
              " (40.284412, -79.39363),\n",
              " (41.668731, -72.844148),\n",
              " (40.776439, -73.467088),\n",
              " (32.475221999999995, -93.797218),\n",
              " (43.297569, -73.678947),\n",
              " (34.861706, -82.276009),\n",
              " (30.36783, -81.66879),\n",
              " (25.87242, -80.20888000000002),\n",
              " (37.539156, -77.333116),\n",
              " (30.435011, -84.201233),\n",
              " (33.5411, -84.267738),\n",
              " (39.20583, -76.68930999999998),\n",
              " (29.813528, -95.317154),\n",
              " (39.88358, -75.24481),\n",
              " (41.843773, -87.9702),\n",
              " (41.87688, -88.23516),\n",
              " (42.808024, -121.835043),\n",
              " (32.792156, -96.729103),\n",
              " (34.066146999999994, -117.509277),\n",
              " (25.945438, -80.186628),\n",
              " (40.285888, -76.821141),\n",
              " (38.660194, -121.071808),\n",
              " (33.90214, -118.18644),\n",
              " (42.14015, -121.88498),\n",
              " (28.66403, -81.27516899999998),\n",
              " (38.33462, -77.49722),\n",
              " (40.812576, -74.39267),\n",
              " (36.845222, -76.283592),\n",
              " (33.901752, -118.370316),\n",
              " (33.8541, -117.79493),\n",
              " (41.49366, -94.23755),\n",
              " (29.91696, -95.41274),\n",
              " (45.082928, -93.402077),\n",
              " (35.39197, -97.49846),\n",
              " (35.2943, -118.757423),\n",
              " (38.743896, -90.412605),\n",
              " (37.282066, -121.808708),\n",
              " (33.992068, -118.402353),\n",
              " (33.778082, -117.789865),\n",
              " (38.544779, -121.47398),\n",
              " (38.55085800000001, -121.422653),\n",
              " (40.83593, -73.870201),\n",
              " (45.562813, -122.590408),\n",
              " (47.46919000000001, -122.26836000000002),\n",
              " (40.888208, -80.723656),\n",
              " (25.733028, -80.318649),\n",
              " (42.36298, -83.12684),\n",
              " (33.67016, -117.689803),\n",
              " (38.93532, -94.72042),\n",
              " (40.24158900000001, -75.575129),\n",
              " (35.82915900000001, -78.884323),\n",
              " (45.27793, -123.010934),\n",
              " (40.39204, -74.09959),\n",
              " (41.22699, -95.990227),\n",
              " (27.960513, -82.75910999999998),\n",
              " (41.04086, -73.83776),\n",
              " (36.206554, -86.77624499999997),\n",
              " (34.24316, -117.28183),\n",
              " (33.403724, -84.599029),\n",
              " (29.905119, -95.31073),\n",
              " (29.677942, -95.352493),\n",
              " (27.388454, -82.487072),\n",
              " (39.15658, -76.60065),\n",
              " (30.877176, -88.044342),\n",
              " (30.139681, -81.537231),\n",
              " (34.15311, -118.36934),\n",
              " (33.46222, -112.047433),\n",
              " (34.06132, -117.396399),\n",
              " (39.74847000000001, -77.56276700000002),\n",
              " (34.128815, -118.346886),\n",
              " (32.17783, -110.975853),\n",
              " (32.779443, -117.112515),\n",
              " (37.959408, -120.236236),\n",
              " (39.020229, -94.175552),\n",
              " (40.426502, -80.05695300000002),\n",
              " (38.299835, -122.034061),\n",
              " (44.91861, -122.99738),\n",
              " (39.870079, -75.005981),\n",
              " (42.99213, -83.71045),\n",
              " (36.02177800000001, -86.654488),\n",
              " (34.19957, -118.338249),\n",
              " (42.03027, -88.27771),\n",
              " (31.77798, -106.46249),\n",
              " (35.240379, -80.920937),\n",
              " (33.411137, -86.97020699999999),\n",
              " (26.203583, -80.141755),\n",
              " (38.85297, -77.39779),\n",
              " (38.93507, -94.733157),\n",
              " (47.16736, -122.47563),\n",
              " (41.299488, -96.014259),\n",
              " (38.714451, -90.447556),\n",
              " (37.34535, -77.339744),\n",
              " (29.840179, -95.38967),\n",
              " (32.663940000000004, -96.90086),\n",
              " (45.44009000000001, -122.56884),\n",
              " (33.551689, -117.672981),\n",
              " (34.774818, -80.790314),\n",
              " (42.24531, -71.199),\n",
              " (28.069836, -82.354057),\n",
              " (39.12569000000001, -121.57576),\n",
              " (37.846089, -122.48667),\n",
              " (39.154588, -94.587209),\n",
              " (38.86012, -77.17886999999997),\n",
              " (41.88232100000001, -112.481903),\n",
              " (38.45626, -121.94223999999998),\n",
              " (41.99173, -87.87095),\n",
              " (41.989578, -87.86792),\n",
              " (38.84218, -104.81505),\n",
              " (40.440636, -122.287979),\n",
              " (28.171101, -81.301735),\n",
              " (29.625639000000003, -95.605909),\n",
              " (36.26545, -86.664017),\n",
              " (35.2719, -89.98331999999998),\n",
              " (34.065228000000005, -117.806824),\n",
              " (30.23708, -93.25941),\n",
              " (42.97337, -85.64375),\n",
              " (32.778492, -96.916878),\n",
              " (39.75475, -86.14495),\n",
              " (33.87631, -118.12106),\n",
              " (41.033882, -74.07123100000003),\n",
              " (33.860405, -118.31263),\n",
              " (32.223412, -110.909508),\n",
              " (44.95071, -93.101265),\n",
              " (41.595047, -73.764015),\n",
              " (44.848248, -93.085258),\n",
              " (33.916758, -118.285871),\n",
              " (25.875916, -80.169012),\n",
              " (42.218056, -87.845528),\n",
              " (40.944124, -77.729827),\n",
              " (37.7855, -122.391823),\n",
              " (42.291234, -87.904834),\n",
              " (40.66045, -73.8672),\n",
              " (42.279732, -87.87854),\n",
              " (28.74878, -81.93167),\n",
              " (40.59617, -75.33734),\n",
              " (39.53414, -77.920006),\n",
              " (33.0448, -117.28601),\n",
              " (34.739841, -86.662178),\n",
              " (40.792934, -73.82396700000002),\n",
              " (35.761955, -78.744987),\n",
              " (42.298378, -83.878075),\n",
              " (40.891945, -79.81309499999998),\n",
              " (37.929001, -122.057755),\n",
              " (32.93891, -80.04954000000002),\n",
              " (42.874249, -78.787849),\n",
              " (47.649307, -122.34946399999998),\n",
              " (47.668671, -122.376221),\n",
              " (41.565275, -72.774369),\n",
              " (37.37431, -77.40599),\n",
              " (34.177111, -118.4685),\n",
              " (41.190815, -96.08139),\n",
              " (37.192772, -77.327789),\n",
              " (40.552364, -74.31774899999998),\n",
              " (34.293619, -118.470243),\n",
              " (40.62268, -80.09659),\n",
              " (40.704742, -73.995041),\n",
              " (38.646744, -90.530266),\n",
              " (32.811832, -96.817413),\n",
              " (40.80842, -73.94493),\n",
              " (30.428614000000003, -97.681252),\n",
              " (37.55187, -122.30963),\n",
              " (30.158553, -97.776615),\n",
              " (26.61306, -81.793472),\n",
              " (40.629429, -111.90229),\n",
              " (43.012321, -85.657928),\n",
              " (34.366240999999995, -117.65341200000002),\n",
              " (35.827309, -78.620354),\n",
              " (34.148075, -118.469818),\n",
              " (32.749599, -116.92968799999998),\n",
              " (29.68305, -95.349144),\n",
              " (35.27271500000001, -80.836258),\n",
              " (36.990612, -121.557852),\n",
              " (42.51616, -73.60991),\n",
              " (44.76519, -93.78126),\n",
              " (37.699375, -121.92906200000002),\n",
              " (45.222591, -93.029099),\n",
              " (38.906714, -120.842419),\n",
              " (36.239861, -119.42112),\n",
              " (30.656706, -87.905559),\n",
              " (34.016742, -118.173354),\n",
              " (37.316757, -121.922081),\n",
              " (26.16483, -80.23935999999998),\n",
              " (39.572697, -119.807961),\n",
              " (33.49127, -86.82158000000003),\n",
              " (40.764152, -73.724091),\n",
              " (40.644755, -77.293184),\n",
              " (39.665768, -121.743866),\n",
              " (34.641855, -118.209961),\n",
              " (28.630995, -81.387535),\n",
              " (40.263206, -76.181976),\n",
              " (30.44323, -91.153587),\n",
              " (40.70204, -73.48705),\n",
              " (33.922749, -118.029207),\n",
              " (33.912348, -117.446456),\n",
              " (37.898679, -122.070733),\n",
              " (34.704551, -82.64201),\n",
              " (42.212754, -71.14894699999998),\n",
              " (33.431629, -79.142303),\n",
              " (32.773254, -96.856499),\n",
              " (30.069355, -95.183022),\n",
              " (34.07893, -118.227524),\n",
              " (39.092316, -104.862534),\n",
              " (40.130443, -76.873456),\n",
              " (43.26641, -119.83921),\n",
              " (32.825161, -86.620613),\n",
              " (42.98843, -87.984047),\n",
              " (39.752129, -84.176109),\n",
              " (35.888927, -78.71189100000002),\n",
              " (33.58017, -117.6716),\n",
              " (29.378901000000006, -98.403954),\n",
              " (30.135435, -92.009377),\n",
              " (42.792507, -73.762527),\n",
              " (39.16785, -76.62316),\n",
              " (43.83709, -95.15798),\n",
              " (38.67138, -121.58608999999998),\n",
              " (38.818534, -76.91265899999998),\n",
              " (37.76345300000001, -77.460447),\n",
              " (40.255001, -75.64179200000002),\n",
              " (37.21507, -76.59236999999997),\n",
              " (32.873901000000004, -96.897476),\n",
              " (41.322926, -95.956635),\n",
              " (40.96344000000001, -81.465019),\n",
              " (42.35776, -71.17735),\n",
              " (47.2564, -122.51485),\n",
              " (40.111813, -75.28514100000002),\n",
              " (29.739517, -95.381279),\n",
              " (47.7086, -122.32862),\n",
              " (33.739643, -84.328194),\n",
              " (32.69132800000001, -96.823269),\n",
              " (42.912819, -85.647102),\n",
              " (47.60147, -122.32485),\n",
              " (36.606567, -119.662682),\n",
              " (37.387119, -77.419726),\n",
              " (38.691372, -104.719327),\n",
              " (39.529675, -119.829788),\n",
              " (41.668608, -72.922841),\n",
              " (38.16735, -122.20279),\n",
              " (34.019241, -118.422203),\n",
              " (42.01990900000001, -91.550224),\n",
              " (36.931141, -76.266922),\n",
              " (38.87091, -76.98875),\n",
              " (33.90034, -117.47285),\n",
              " (41.90542, -87.98835),\n",
              " (34.762852, -82.545387),\n",
              " (39.157853, -76.831834),\n",
              " (36.666962, -121.756935),\n",
              " (35.921349, -84.064949),\n",
              " (44.918663, -73.739655),\n",
              " (33.815277, -118.185081),\n",
              " (42.334366, -71.095314),\n",
              " (43.554192, -73.40007),\n",
              " (38.654709, -121.036942),\n",
              " (38.321544, -121.32546),\n",
              " (28.697873, -82.104239),\n",
              " (33.946217, -117.38871),\n",
              " (39.23406, -76.70889),\n",
              " (33.83368, -84.33232),\n",
              " (33.753777, -118.29126),\n",
              " (35.151089, -118.823372),\n",
              " (33.751446, -84.446114),\n",
              " (34.23274, -118.47299),\n",
              " (33.563098, -117.656415),\n",
              " (42.02602, -87.81624000000002),\n",
              " (40.14737, -84.21929),\n",
              " (38.23587, -85.658455),\n",
              " (37.639245, -121.007109),\n",
              " (43.02751, -88.01263),\n",
              " (39.514629, -118.856812),\n",
              " (33.930969, -118.300323),\n",
              " (36.170837, -86.76417),\n",
              " (32.612583, -83.742805),\n",
              " (42.42837100000001, -71.25882),\n",
              " (38.24572, -122.625526),\n",
              " (35.073608, -85.18820699999998),\n",
              " (38.56368300000001, -121.636625),\n",
              " (45.163956, -93.276695),\n",
              " (40.029678, -76.493042),\n",
              " (37.362774, -121.887871),\n",
              " (29.766043, -95.455971),\n",
              " (29.729774, -95.605743),\n",
              " (27.95617, -82.4642),\n",
              " (33.764568, -84.384727),\n",
              " (42.494469, -82.938179),\n",
              " (37.710659, -122.166817),\n",
              " (34.114746000000004, -80.888672),\n",
              " (26.010791, -80.166826),\n",
              " (29.784473, -95.468704),\n",
              " (27.885455, -82.787019),\n",
              " (34.331055, -81.609154),\n",
              " (32.624374, -83.36969),\n",
              " (30.35552, -81.66866999999998),\n",
              " (32.515087, -93.748596),\n",
              " (30.340569, -97.554581),\n",
              " (33.78989, -84.49068),\n",
              " (34.03119, -118.03068),\n",
              " (34.145805, -81.23786199999998),\n",
              " (25.686405, -80.35164499999998),\n",
              " (34.257332, -118.853742),\n",
              " (35.748638, -78.834824),\n",
              " (25.963083, -80.15353499999998),\n",
              " (33.963913, -117.324977),\n",
              " (42.61479, -87.95227),\n",
              " (35.258881, -89.871643),\n",
              " (35.93572, -79.33326),\n",
              " (41.07552, -73.802017),\n",
              " (44.96603, -93.265116),\n",
              " (42.264896, -83.271271),\n",
              " (33.54546, -112.047539),\n",
              " (32.830425, -117.23262),\n",
              " (43.001141, -77.670395),\n",
              " (33.87628, -118.13109),\n",
              " (34.741413, -86.678698),\n",
              " (38.596024, -121.401497),\n",
              " (38.011761, -121.86622),\n",
              " (33.782509999999995, -118.35237),\n",
              " (27.441839, -82.459595),\n",
              " (38.231153000000006, -122.112747),\n",
              " (37.603195, -122.064285),\n",
              " (37.31749, -121.935356),\n",
              " (33.687782, -117.906548),\n",
              " (44.879065, -93.002742),\n",
              " (43.04929, -75.233482),\n",
              " (42.909031, -83.604378),\n",
              " (35.75377, -78.64441),\n",
              " (40.37692, -111.823003),\n",
              " (29.843294, -82.530411),\n",
              " (38.959431, -85.845001),\n",
              " (35.217152, -80.82399000000002),\n",
              " (33.791645, -84.391693),\n",
              " (38.790883, -77.176147),\n",
              " (37.742855, -122.198219),\n",
              " (32.774640000000005, -117.13446),\n",
              " (33.555344, -112.043892),\n",
              " (39.83181, -75.42732),\n",
              " (33.483948, -86.82634),\n",
              " (28.450769, -82.557404),\n",
              " (34.15005900000001, -118.468437),\n",
              " (34.559639000000004, -111.904762),\n",
              " (34.617359, -82.324852),\n",
              " (36.880207, -119.976631),\n",
              " (42.36788, -87.89508000000002),\n",
              " (36.751447, -119.793557),\n",
              " (43.196243, -77.576782),\n",
              " (34.74968, -82.50083199999997),\n",
              " (34.145939, -84.516632),\n",
              " (25.883393, -80.361758),\n",
              " (30.137239, -92.066566),\n",
              " (40.70215, -73.48571),\n",
              " (38.26073, -122.0606),\n",
              " (42.978516, -77.232529),\n",
              " (44.775101, -93.288506),\n",
              " (46.93051, -120.502127),\n",
              " (44.78704000000001, -68.80843),\n",
              " (37.33453, -122.027931),\n",
              " (42.231777, -87.830811),\n",
              " (39.811752, -86.176788),\n",
              " (41.932301, -87.678116),\n",
              " (34.12536, -118.47654),\n",
              " (39.87425, -75.10239),\n",
              " (38.85122, -77.07574),\n",
              " (41.099137, -73.440099),\n",
              " (31.771512, -106.377172),\n",
              " (39.210904, -120.783464),\n",
              " (25.889368, -80.206795),\n",
              " (33.418018, -86.687416),\n",
              " (33.96021, -117.908268),\n",
              " (40.4189, -74.208412),\n",
              " (41.0613, -73.51018),\n",
              " (27.792072, -82.66069),\n",
              " (34.042334000000004, -118.773637),\n",
              " (34.033696, -118.361083),\n",
              " (35.25859000000001, -112.14472),\n",
              " (39.964121, -77.24828199999997),\n",
              " (39.871022, -75.10212),\n",
              " (30.412809000000006, -97.696831),\n",
              " (37.702255, -121.744728),\n",
              " (34.17626, -83.91631),\n",
              " (40.653603, -111.98176200000002),\n",
              " (29.73068, -95.484161),\n",
              " (35.229172, -80.865356),\n",
              " (34.129452, -86.41124),\n",
              " (40.060783, -76.359779),\n",
              " (30.475215, -91.111308),\n",
              " (41.8153, -87.63048),\n",
              " (36.141407, -86.666557),\n",
              " (34.381173, -118.413408),\n",
              " (41.178349, -73.19519),\n",
              " (34.082256, -117.698196),\n",
              " (34.003284, -117.380767),\n",
              " (28.37145, -81.40438),\n",
              " (29.675388, -95.550169),\n",
              " (41.94935200000001, -71.340848),\n",
              " (30.543131, -91.028587),\n",
              " (40.71806, -112.11437),\n",
              " (40.25008, -75.388733),\n",
              " (38.012596, -122.002274),\n",
              " (40.06489600000001, -75.32122),\n",
              " (38.617735, -121.382879),\n",
              " (30.18701, -81.73946),\n",
              " (34.028675, -118.228828),\n",
              " (34.037999, -118.276449),\n",
              " (34.912468, -82.429283),\n",
              " (44.94409, -93.07786),\n",
              " (36.758495, -76.30364399999998),\n",
              " (29.61107, -95.4883),\n",
              " (40.854481, -73.96579),\n",
              " (37.670472, -122.110379),\n",
              " (34.129723, -117.933701),\n",
              " (33.58918, -111.83617),\n",
              " (40.28586, -74.71434),\n",
              " (33.738712, -117.091906),\n",
              " (36.66982, -80.708903),\n",
              " (34.021034, -118.195198),\n",
              " (44.951866, -93.146957),\n",
              " (32.898563, -96.769188),\n",
              " (41.82402, -78.35730699999998),\n",
              " (39.59483, -104.802345),\n",
              " (34.837709999999994, -82.28967),\n",
              " (32.79575, -96.6922),\n",
              " (37.09657, -80.563202),\n",
              " (37.540244, -120.895759),\n",
              " (33.876289, -118.102577),\n",
              " (33.394573, -80.64431),\n",
              " (34.16108, -118.46961),\n",
              " (40.59523, -73.65686),\n",
              " (33.85611, -118.00633),\n",
              " (34.865355, -82.433279),\n",
              " (33.8784, -118.19254),\n",
              " (35.777813, -78.560852),\n",
              " (33.787947, -117.880076),\n",
              " (44.81494, -120.93174),\n",
              " (46.301641, -94.267719),\n",
              " (39.77345, -104.83529),\n",
              " (41.95929, -88.089287),\n",
              " (40.709063, -73.819822),\n",
              " (40.683006, -75.280905),\n",
              " (41.581806, -93.703514),\n",
              " (44.952644, -93.041512),\n",
              " (34.035315999999995, -118.149963),\n",
              " (41.73481, -72.66427),\n",
              " (34.392521, -118.472832),\n",
              " (34.82251, -82.288048),\n",
              " (34.908939000000004, -91.196554),\n",
              " (34.070496, -117.392105),\n",
              " (34.124851, -117.509501),\n",
              " (27.903095, -82.636016),\n",
              " (33.230209, -86.80720500000002),\n",
              " (37.595968, -122.059106),\n",
              " (30.008568, -90.219955),\n",
              " (36.07215, -86.73288000000002),\n",
              " (41.477081, -74.312302),\n",
              " (34.186409000000005, -80.211472),\n",
              " (34.230522, -79.798828),\n",
              " (30.35021, -81.66854000000002),\n",
              " (42.17422, -84.658953),\n",
              " (33.392072, -117.174211),\n",
              " (47.478865, -92.871927),\n",
              " (43.65889, -116.657),\n",
              " (33.88998, -117.50985),\n",
              " (29.735954, -95.410675),\n",
              " (29.784895, -95.64492),\n",
              " (43.01559, -121.82597),\n",
              " (37.800674, -121.192345),\n",
              " (37.326692, -121.94071),\n",
              " (42.75262, -70.94408),\n",
              " (33.674887, -117.8384),\n",
              " (43.594297, -116.448243),\n",
              " (39.95111, -75.18283000000002),\n",
              " (40.004341, -83.15387700000002),\n",
              " (28.480616, -81.310112),\n",
              " (37.886386, -120.999881),\n",
              " (37.75015300000001, -121.138657),\n",
              " (33.72029000000001, -84.50253000000002),\n",
              " (38.630543, -121.498053),\n",
              " (28.548094, -81.260651),\n",
              " (41.93976, -85.65168),\n",
              " (30.389618, -87.067521),\n",
              " (32.709896, -97.024734),\n",
              " (33.80271, -84.38578199999998),\n",
              " (39.326984, -120.39026),\n",
              " (42.378181, -83.06276700000002),\n",
              " (42.06832, -88.29720999999998),\n",
              " (48.07196, -122.111336),\n",
              " (39.268185, -84.36068),\n",
              " (33.933499, -117.000073),\n",
              " (45.69356, -120.382422),\n",
              " (30.260363, -97.794464),\n",
              " (34.06446, -118.00388),\n",
              " (39.102356, -84.498451),\n",
              " (32.67099, -96.97586),\n",
              " (32.734257, -96.688438),\n",
              " (45.29932, -93.51108),\n",
              " (37.771553, -121.810371),\n",
              " (35.715639, -78.58413399999998),\n",
              " (34.00634, -118.41371200000002),\n",
              " (38.77343, -121.24282),\n",
              " (35.8242, -78.587456),\n",
              " (37.608707, -122.068192),\n",
              " (34.155396, -118.291702),\n",
              " (40.430185, -79.880839),\n",
              " (39.07679, -77.6064),\n",
              " (41.85697, -88.16093000000002),\n",
              " (40.844837, -73.904137),\n",
              " (40.91078, -74.50895),\n",
              " (45.575668, -94.124184),\n",
              " (39.69667000000001, -104.81922),\n",
              " (34.442143, -119.784885),\n",
              " (40.936253, -123.625681),\n",
              " (45.375734, -122.58606),\n",
              " (33.916225, -118.223022),\n",
              " (39.651531, -77.800186),\n",
              " (40.044579, -76.490997),\n",
              " (32.751759, -96.770355),\n",
              " (32.852734000000005, -79.98790699999998),\n",
              " (30.41016, -84.137787),\n",
              " (34.25581, -111.256042),\n",
              " (37.8952, -122.11238),\n",
              " (41.90015, -87.66059),\n",
              " (33.928740000000005, -118.25041),\n",
              " (29.9466, -95.41623),\n",
              " (39.11364, -94.892532),\n",
              " (41.527344, -73.916061),\n",
              " (34.916744, -82.00431800000001),\n",
              " (29.981182, -90.11367),\n",
              " (35.106468, -80.76664699999998),\n",
              " (41.029095, -74.251366),\n",
              " (33.934631, -84.494003),\n",
              " (30.23735, -93.26431),\n",
              " (34.078987, -118.291693),\n",
              " (47.661381, -122.336151),\n",
              " (37.807884, -121.297215),\n",
              " (45.062237, -93.159867),\n",
              " (36.845505, -76.196342),\n",
              " (32.746639, -97.30658),\n",
              " (33.629433, -84.40289),\n",
              " (32.759537, -97.062378),\n",
              " (40.42476, -76.52409),\n",
              " (28.041037, -82.558578),\n",
              " (40.847298, -72.883698),\n",
              " (33.968163, -118.16787),\n",
              " (32.67951, -96.82267),\n",
              " (34.01334, -117.34403),\n",
              " (33.954479, -80.924461),\n",
              " (28.001841, -82.30246),\n",
              " (32.792442, -96.685028),\n",
              " (35.05104, -80.76953),\n",
              " (37.768478, -122.006729),\n",
              " (32.95215, -117.10351),\n",
              " (35.833744, -77.978882),\n",
              " (34.02502, -117.73398),\n",
              " (37.092485, -80.573437),\n",
              " (34.025956, -118.040102),\n",
              " (45.079498, -93.052864),\n",
              " (46.23506, -123.87196000000002),\n",
              " (40.760189, -74.051147),\n",
              " (33.75119, -84.4963),\n",
              " (45.77352, -92.8301),\n",
              " (33.74071, -117.83391),\n",
              " (34.018436, -117.984634),\n",
              " (25.94235, -80.34227),\n",
              " (38.94522, -94.85307),\n",
              " (35.221835, -92.833131),\n",
              " (34.155727, -118.431236),\n",
              " (45.2133, -122.82353),\n",
              " (30.10803, -95.435562),\n",
              " (41.213799, -96.110283),\n",
              " (34.147237, -118.69888600000002),\n",
              " (37.892591, -122.159524),\n",
              " (34.020633000000004, -118.192258),\n",
              " (34.186754, -118.474275),\n",
              " (42.40348, -83.09566),\n",
              " (38.64056400000001, -121.47773),\n",
              " (40.5018, -74.44404),\n",
              " (33.901897, -118.291794),\n",
              " (42.19334, -120.37615),\n",
              " (36.261977, -86.738043),\n",
              " (36.289661, -119.117767),\n",
              " (39.884051, -76.160831),\n",
              " (40.10962, -79.38226),\n",
              " (41.035675, -73.816696),\n",
              " (25.630294, -80.41471800000002),\n",
              " (41.96341, -87.74721),\n",
              " (25.77773, -80.302995),\n",
              " (34.878521, -82.361328),\n",
              " (36.95016500000001, -121.471695),\n",
              " (38.737267, -77.192484),\n",
              " (40.03244, -111.758102),\n",
              " (33.90651, -84.43203000000003),\n",
              " (27.576923, -82.42546999999998),\n",
              " (38.911391, -76.579894),\n",
              " (33.856840000000005, -118.284809),\n",
              " (43.327518, -73.68463100000002),\n",
              " (38.863026, -77.369875),\n",
              " (47.608002, -122.29628),\n",
              " (37.759823, -122.392258),\n",
              " (33.797779, -118.293724),\n",
              " (41.219711, -95.953331),\n",
              " (33.986732, -117.906235),\n",
              " (45.244923, -123.047989),\n",
              " (33.7677, -117.92028),\n",
              " (37.390098, -121.991977),\n",
              " (30.224709000000004, -92.052452),\n",
              " (34.104040000000005, -118.319696),\n",
              " (36.168259, -86.782036),\n",
              " (35.15279, -80.774117),\n",
              " (29.872042, -95.262558),\n",
              " (34.303802000000005, -118.478905),\n",
              " (38.628149, -120.208637),\n",
              " (34.055695, -118.451965),\n",
              " (34.15424, -118.375259),\n",
              " (35.76886, -78.736099),\n",
              " (40.85306, -73.96011),\n",
              " (39.514046, -77.319283),\n",
              " (30.184739, -81.637291),\n",
              " (45.053483, -93.058029),\n",
              " (35.827312, -78.620384),\n",
              " (27.567875, -82.568765),\n",
              " (30.160873, -81.747263),\n",
              " (42.783209, -86.07985),\n",
              " (42.840167, -73.483921),\n",
              " (42.945187, -83.62281800000002),\n",
              " (27.93755, -82.32975),\n",
              " (33.575444, -81.740948),\n",
              " (43.174896, -77.613722),\n",
              " (44.697693, -93.288147),\n",
              " (33.77817, -117.86739),\n",
              " (29.624031, -95.430809),\n",
              " (30.425835, -91.010925),\n",
              " (34.00444, -118.4122),\n",
              " (28.727290000000004, -81.60181),\n",
              " (38.84737, -77.42849),\n",
              " (26.13603, -80.219009),\n",
              " (33.743111, -118.002724),\n",
              " (26.6217, -81.71521),\n",
              " (36.941958, -80.917374),\n",
              " (38.16722, -122.20299),\n",
              " (44.784027, -93.20884),\n",
              " (37.56174, -122.27629),\n",
              " (26.45408, -80.17444),\n",
              " (40.758507, -73.854675),\n",
              " (28.635424, -81.448527),\n",
              " (38.70697, -77.223),\n",
              " (40.785793, -77.8545),\n",
              " (35.83492000000001, -78.60642),\n",
              " (42.066444, -88.22333499999998),\n",
              " (45.069469, -93.285942),\n",
              " (47.636021, -122.227669),\n",
              " (42.912641, -85.626609),\n",
              " (45.507012, -122.670754),\n",
              " ...]"
            ]
          },
          "metadata": {
            "tags": []
          },
          "execution_count": 81
        }
      ]
    },
    {
      "cell_type": "code",
      "metadata": {
        "id": "5R2qcZ96VqYN"
      },
      "source": [
        "from folium.plugins import HeatMap"
      ],
      "execution_count": null,
      "outputs": []
    },
    {
      "cell_type": "code",
      "metadata": {
        "id": "Ifj5tiarV8TL"
      },
      "source": [
        "sample_df = df.sample(int(0.0001 *len(df)))\n",
        "lat_lon_pairs = list(zip(list(sample_df.Start_Lat), list(sample_df.Start_Lng)))"
      ],
      "execution_count": null,
      "outputs": []
    },
    {
      "cell_type": "code",
      "metadata": {
        "colab": {
          "base_uri": "https://localhost:8080/",
          "height": 541
        },
        "id": "2WH14u8GVqVa",
        "outputId": "1afb57f0-d37b-4589-82d2-0e2f29e3aaf4"
      },
      "source": [
        "map = folium.Map()\n",
        "HeatMap(lat_lon_pairs).add_to(map)\n",
        "map"
      ],
      "execution_count": null,
      "outputs": [
        {
          "output_type": "execute_result",
          "data": {
            "text/html": [
              "<div style=\"width:100%;\"><div style=\"position:relative;width:100%;height:0;padding-bottom:60%;\"><span style=\"color:#565656\">Make this Notebook Trusted to load map: File -> Trust Notebook</span><iframe src=\"about:blank\" style=\"position:absolute;width:100%;height:100%;left:0;top:0;border:none !important;\" data-html=%3C%21DOCTYPE%20html%3E%0A%3Chead%3E%20%20%20%20%0A%20%20%20%20%3Cmeta%20http-equiv%3D%22content-type%22%20content%3D%22text/html%3B%20charset%3DUTF-8%22%20/%3E%0A%20%20%20%20%3Cscript%3EL_PREFER_CANVAS%3Dfalse%3B%20L_NO_TOUCH%3Dfalse%3B%20L_DISABLE_3D%3Dfalse%3B%3C/script%3E%0A%20%20%20%20%3Cscript%20src%3D%22https%3A//cdn.jsdelivr.net/npm/leaflet%401.4.0/dist/leaflet.js%22%3E%3C/script%3E%0A%20%20%20%20%3Cscript%20src%3D%22https%3A//code.jquery.com/jquery-1.12.4.min.js%22%3E%3C/script%3E%0A%20%20%20%20%3Cscript%20src%3D%22https%3A//maxcdn.bootstrapcdn.com/bootstrap/3.2.0/js/bootstrap.min.js%22%3E%3C/script%3E%0A%20%20%20%20%3Cscript%20src%3D%22https%3A//cdnjs.cloudflare.com/ajax/libs/Leaflet.awesome-markers/2.0.2/leaflet.awesome-markers.js%22%3E%3C/script%3E%0A%20%20%20%20%3Clink%20rel%3D%22stylesheet%22%20href%3D%22https%3A//cdn.jsdelivr.net/npm/leaflet%401.4.0/dist/leaflet.css%22/%3E%0A%20%20%20%20%3Clink%20rel%3D%22stylesheet%22%20href%3D%22https%3A//maxcdn.bootstrapcdn.com/bootstrap/3.2.0/css/bootstrap.min.css%22/%3E%0A%20%20%20%20%3Clink%20rel%3D%22stylesheet%22%20href%3D%22https%3A//maxcdn.bootstrapcdn.com/bootstrap/3.2.0/css/bootstrap-theme.min.css%22/%3E%0A%20%20%20%20%3Clink%20rel%3D%22stylesheet%22%20href%3D%22https%3A//maxcdn.bootstrapcdn.com/font-awesome/4.6.3/css/font-awesome.min.css%22/%3E%0A%20%20%20%20%3Clink%20rel%3D%22stylesheet%22%20href%3D%22https%3A//cdnjs.cloudflare.com/ajax/libs/Leaflet.awesome-markers/2.0.2/leaflet.awesome-markers.css%22/%3E%0A%20%20%20%20%3Clink%20rel%3D%22stylesheet%22%20href%3D%22https%3A//rawcdn.githack.com/python-visualization/folium/master/folium/templates/leaflet.awesome.rotate.css%22/%3E%0A%20%20%20%20%3Cstyle%3Ehtml%2C%20body%20%7Bwidth%3A%20100%25%3Bheight%3A%20100%25%3Bmargin%3A%200%3Bpadding%3A%200%3B%7D%3C/style%3E%0A%20%20%20%20%3Cstyle%3E%23map%20%7Bposition%3Aabsolute%3Btop%3A0%3Bbottom%3A0%3Bright%3A0%3Bleft%3A0%3B%7D%3C/style%3E%0A%20%20%20%20%0A%20%20%20%20%3Cmeta%20name%3D%22viewport%22%20content%3D%22width%3Ddevice-width%2C%0A%20%20%20%20%20%20%20%20initial-scale%3D1.0%2C%20maximum-scale%3D1.0%2C%20user-scalable%3Dno%22%20/%3E%0A%20%20%20%20%3Cstyle%3E%23map_e082839cae40496db68d66097b748f3e%20%7B%0A%20%20%20%20%20%20%20%20position%3A%20relative%3B%0A%20%20%20%20%20%20%20%20width%3A%20100.0%25%3B%0A%20%20%20%20%20%20%20%20height%3A%20100.0%25%3B%0A%20%20%20%20%20%20%20%20left%3A%200.0%25%3B%0A%20%20%20%20%20%20%20%20top%3A%200.0%25%3B%0A%20%20%20%20%20%20%20%20%7D%0A%20%20%20%20%3C/style%3E%0A%20%20%20%20%3Cscript%20src%3D%22https%3A//leaflet.github.io/Leaflet.heat/dist/leaflet-heat.js%22%3E%3C/script%3E%0A%3C/head%3E%0A%3Cbody%3E%20%20%20%20%0A%20%20%20%20%0A%20%20%20%20%3Cdiv%20class%3D%22folium-map%22%20id%3D%22map_e082839cae40496db68d66097b748f3e%22%20%3E%3C/div%3E%0A%3C/body%3E%0A%3Cscript%3E%20%20%20%20%0A%20%20%20%20%0A%20%20%20%20%0A%20%20%20%20%20%20%20%20var%20bounds%20%3D%20null%3B%0A%20%20%20%20%0A%0A%20%20%20%20var%20map_e082839cae40496db68d66097b748f3e%20%3D%20L.map%28%0A%20%20%20%20%20%20%20%20%27map_e082839cae40496db68d66097b748f3e%27%2C%20%7B%0A%20%20%20%20%20%20%20%20center%3A%20%5B0%2C%200%5D%2C%0A%20%20%20%20%20%20%20%20zoom%3A%201%2C%0A%20%20%20%20%20%20%20%20maxBounds%3A%20bounds%2C%0A%20%20%20%20%20%20%20%20layers%3A%20%5B%5D%2C%0A%20%20%20%20%20%20%20%20worldCopyJump%3A%20false%2C%0A%20%20%20%20%20%20%20%20crs%3A%20L.CRS.EPSG3857%2C%0A%20%20%20%20%20%20%20%20zoomControl%3A%20true%2C%0A%20%20%20%20%20%20%20%20%7D%29%3B%0A%0A%0A%20%20%20%20%0A%20%20%20%20var%20tile_layer_785358cee5e649778d235e327527577a%20%3D%20L.tileLayer%28%0A%20%20%20%20%20%20%20%20%27https%3A//%7Bs%7D.tile.openstreetmap.org/%7Bz%7D/%7Bx%7D/%7By%7D.png%27%2C%0A%20%20%20%20%20%20%20%20%7B%0A%20%20%20%20%20%20%20%20%22attribution%22%3A%20null%2C%0A%20%20%20%20%20%20%20%20%22detectRetina%22%3A%20false%2C%0A%20%20%20%20%20%20%20%20%22maxNativeZoom%22%3A%2018%2C%0A%20%20%20%20%20%20%20%20%22maxZoom%22%3A%2018%2C%0A%20%20%20%20%20%20%20%20%22minZoom%22%3A%200%2C%0A%20%20%20%20%20%20%20%20%22noWrap%22%3A%20false%2C%0A%20%20%20%20%20%20%20%20%22opacity%22%3A%201%2C%0A%20%20%20%20%20%20%20%20%22subdomains%22%3A%20%22abc%22%2C%0A%20%20%20%20%20%20%20%20%22tms%22%3A%20false%0A%7D%29.addTo%28map_e082839cae40496db68d66097b748f3e%29%3B%0A%20%20%20%20%0A%20%20%20%20%20%20%20%20%20%20%20%20var%20heat_map_7cfa06885e5b4f1c87a899d555b80e02%20%3D%20L.heatLayer%28%0A%20%20%20%20%20%20%20%20%20%20%20%20%20%20%20%20%5B%5B30.22193%2C%20-97.955971%5D%2C%20%5B37.186519%2C%20-120.837017%5D%2C%20%5B35.243614%2C%20-80.821815%5D%2C%20%5B35.052404%2C%20-118.359376%5D%2C%20%5B38.70233%2C%20-121.33173%5D%2C%20%5B25.863028%2C%20-80.322622%5D%2C%20%5B32.761972%2C%20-96.745635%5D%2C%20%5B32.82509%2C%20-97.3132%5D%2C%20%5B36.86385900000001%2C%20-77.412151%5D%2C%20%5B33.068842%2C%20-117.293228%5D%2C%20%5B35.20399000000001%2C%20-80.75092%5D%2C%20%5B42.62462%2C%20-83.0471%5D%2C%20%5B37.63023%2C%20-122.42474%5D%2C%20%5B46.45311%2C%20-92.73002%5D%2C%20%5B25.946072%2C%20-80.147246%5D%2C%20%5B44.855501%2C%20-93.888319%5D%2C%20%5B34.135862%2C%20-117.576445%5D%2C%20%5B38.611935%2C%20-121.395859%5D%2C%20%5B41.928993%2C%20-87.94632%5D%2C%20%5B39.781479%2C%20-84.26203199999998%5D%2C%20%5B34.226555%2C%20-82.19596899999998%5D%2C%20%5B33.93631%2C%20-118.09346%5D%2C%20%5B29.777437%2C%20-95.409615%5D%2C%20%5B41.855511%2C%20-71.406601%5D%2C%20%5B40.727248%2C%20-74.13870899999998%5D%2C%20%5B34.41293%2C%20-82.624222%5D%2C%20%5B36.07519%2C%20-80.10471%5D%2C%20%5B42.032234%2C%20-88.336258%5D%2C%20%5B33.786896%2C%20-84.493134%5D%2C%20%5B41.072635%2C%20-81.504351%5D%2C%20%5B33.939209000000005%2C%20-80.787163%5D%2C%20%5B39.19451%2C%20-84.47558000000002%5D%2C%20%5B35.850109%2C%20-78.60588100000002%5D%2C%20%5B36.0508%2C%20-86.646919%5D%2C%20%5B41.57007%2C%20-87.41978%5D%2C%20%5B32.857109%2C%20-96.874817%5D%2C%20%5B37.639428%2C%20-121.40194%5D%2C%20%5B36.882997%2C%20-76.431062%5D%2C%20%5B26.350828000000003%2C%20-80.117874%5D%2C%20%5B35.54173%2C%20-97.60104%5D%2C%20%5B38.59845%2C%20-121.504509%5D%2C%20%5B29.77976%2C%20-95.45081%5D%2C%20%5B29.759248%2C%20-95.366917%5D%2C%20%5B40.6664%2C%20-73.80175%5D%2C%20%5B37.138299%2C%20-93.278283%5D%2C%20%5B42.272671%2C%20-85.295509%5D%2C%20%5B38.372227%2C%20-121.954842%5D%2C%20%5B30.254666%2C%20-97.732645%5D%2C%20%5B37.32717%2C%20-121.94089%5D%2C%20%5B44.97108%2C%20-93.42784%5D%2C%20%5B38.88163400000001%2C%20-78.52189399999997%5D%2C%20%5B40.083757%2C%20-75.16241600000002%5D%2C%20%5B35.60895%2C%20-97.58853%5D%2C%20%5B44.643941%2C%20-123.925628%5D%2C%20%5B30.859978%2C%20-85.763727%5D%2C%20%5B41.94842%2C%20-87.72163%5D%2C%20%5B29.447989%2C%20-98.707397%5D%2C%20%5B30.481353%2C%20-81.639075%5D%2C%20%5B34.971416%2C%20-120.425446%5D%2C%20%5B43.07416%2C%20-86.08703%5D%2C%20%5B34.077759%2C%20-117.338097%5D%2C%20%5B32.759871999999994%2C%20-117.189598%5D%2C%20%5B29.80597%2C%20-95.56354%5D%2C%20%5B33.567640000000004%2C%20-112.09961%5D%2C%20%5B33.437909999999995%2C%20-111.96098%5D%2C%20%5B25.808751%2C%20-80.321481%5D%2C%20%5B33.925789%2C%20-118.177719%5D%2C%20%5B30.368971%2C%20-91.122917%5D%2C%20%5B39.01965%2C%20-76.98029%5D%2C%20%5B39.85962%2C%20-75.075623%5D%2C%20%5B34.171481%2C%20-79.764989%5D%2C%20%5B30.455990000000003%2C%20-97.752663%5D%2C%20%5B29.711793%2C%20-95.310903%5D%2C%20%5B32.17783%2C%20-110.968292%5D%2C%20%5B42.49465%2C%20-82.94634%5D%2C%20%5B33.672523%2C%20-80.897827%5D%2C%20%5B43.08722%2C%20-76.16396%5D%2C%20%5B40.03847%2C%20-76.45855%5D%2C%20%5B29.812735%2C%20-95.410324%5D%2C%20%5B36.753876%2C%20-119.827545%5D%2C%20%5B34.989326%2C%20-81.965546%5D%2C%20%5B32.543114%2C%20-117.031006%5D%2C%20%5B38.81359000000001%2C%20-76.74332%5D%2C%20%5B37.581556%2C%20-77.493453%5D%2C%20%5B33.707531%2C%20-117.957197%5D%2C%20%5B37.85148%2C%20-122.22255%5D%2C%20%5B42.967553%2C%20-83.692773%5D%2C%20%5B39.242558%2C%20-121.21434%5D%2C%20%5B46.00188%2C%20-95.73297%5D%2C%20%5B40.13033%2C%20-77.3476%5D%2C%20%5B32.59741%2C%20-88.222806%5D%2C%20%5B34.324188%2C%20-118.501557%5D%2C%20%5B25.686047%2C%20-80.397987%5D%2C%20%5B34.03655%2C%20-118.15644%5D%2C%20%5B37.55203%2C%20-122.30877%5D%2C%20%5B41.77457800000001%2C%20-78.020981%5D%2C%20%5B33.42334%2C%20-82.058662%5D%2C%20%5B29.59798%2C%20-95.36418%5D%2C%20%5B29.735863%2C%20-95.623787%5D%2C%20%5B30.447187%2C%20-91.184647%5D%2C%20%5B34.467576%2C%20-117.348564%5D%2C%20%5B38.740456%2C%20-77.189842%5D%2C%20%5B37.631431%2C%20-122.084667%5D%2C%20%5B39.235683%2C%20-76.70948800000002%5D%2C%20%5B37.990494%2C%20-77.574724%5D%2C%20%5B33.99612%2C%20-84.55899000000002%5D%2C%20%5B39.334133%2C%20-76.48989499999998%5D%2C%20%5B25.714063%2C%20-80.429422%5D%2C%20%5B36.158581%2C%20-86.78756700000002%5D%2C%20%5B36.767345%2C%20-76.28909300000002%5D%2C%20%5B25.785955%2C%20-80.189041%5D%2C%20%5B39.09875%2C%20-76.62821%5D%2C%20%5B37.42916500000001%2C%20-121.885452%5D%2C%20%5B43.59749%2C%20-116.292579%5D%2C%20%5B44.975929%2C%20-93.281837%5D%2C%20%5B33.884377%2C%20-84.250778%5D%2C%20%5B36.151096%2C%20-86.76939399999998%5D%2C%20%5B41.987251%2C%20-88.150032%5D%2C%20%5B34.078007%2C%20-117.813873%5D%2C%20%5B37.774078%2C%20-122.406517%5D%2C%20%5B32.74837%2C%20-117.108965%5D%2C%20%5B34.623989%2C%20-86.457848%5D%2C%20%5B34.14772%2C%20-118.27921%5D%2C%20%5B33.942029%2C%20-118.011573%5D%2C%20%5B41.81673%2C%20-87.925285%5D%2C%20%5B42.380199%2C%20-87.946831%5D%2C%20%5B37.62875%2C%20-122.119179%5D%2C%20%5B42.386578%2C%20-71.237595%5D%2C%20%5B30.33057%2C%20-97.809387%5D%2C%20%5B28.382456%2C%20-81.391025%5D%2C%20%5B35.357919%2C%20-118.914154%5D%2C%20%5B42.35189%2C%20-87.93895%5D%2C%20%5B33.869529%2C%20-117.67176%5D%2C%20%5B47.777687%2C%20-122.318031%5D%2C%20%5B40.122879%2C%20-75.40966%5D%2C%20%5B36.035931%2C%20-79.791389%5D%2C%20%5B33.880939%2C%20-117.548958%5D%2C%20%5B30.296577000000006%2C%20-81.77325%5D%2C%20%5B47.58998%2C%20-122.30217%5D%2C%20%5B32.353146%2C%20-95.342796%5D%2C%20%5B39.89217%2C%20-83.039169%5D%2C%20%5B33.59839%2C%20-117.677317%5D%2C%20%5B38.640493%2C%20-90.502442%5D%2C%20%5B47.30958%2C%20-122.24818%5D%2C%20%5B26.678828000000006%2C%20-81.798824%5D%2C%20%5B40.889839%2C%20-73.887337%5D%2C%20%5B35.094248%2C%20-118.979283%5D%2C%20%5B25.927671%2C%20-80.204352%5D%2C%20%5B35.541744%2C%20-97.565643%5D%2C%20%5B34.565552000000004%2C%20-82.47006999999998%5D%2C%20%5B33.500927000000004%2C%20-117.151199%5D%2C%20%5B34.775719%2C%20-120.496124%5D%2C%20%5B33.984292%2C%20-117.84295%5D%2C%20%5B38.61674%2C%20-90.178%5D%2C%20%5B29.747187%2C%20-95.580566%5D%2C%20%5B35.2947%2C%20-80.76631%5D%2C%20%5B34.036911%2C%20-81.090591%5D%2C%20%5B33.610123%2C%20-117.725062%5D%2C%20%5B33.8962%2C%20-84.36352%5D%2C%20%5B41.894%2C%20-71.44273000000003%5D%2C%20%5B36.918539%2C%20-121.834822%5D%2C%20%5B41.025219%2C%20-73.730804%5D%2C%20%5B40.71643%2C%20-73.97559%5D%2C%20%5B35.146629%2C%20-80.630386%5D%2C%20%5B33.759833%2C%20-117.83117%5D%2C%20%5B34.026222%2C%20-117.333453%5D%2C%20%5B39.28573%2C%20-84.4238%5D%2C%20%5B41.87583%2C%20-87.68088%5D%2C%20%5B33.41763%2C%20-111.89117%5D%2C%20%5B36.07029%2C%20-86.722093%5D%2C%20%5B37.749325%2C%20-122.403625%5D%2C%20%5B39.13706%2C%20-76.75686%5D%2C%20%5B30.295408%2C%20-97.719521%5D%2C%20%5B41.244309%2C%20-111.981822%5D%2C%20%5B32.70705%2C%20-97.270851%5D%2C%20%5B32.681438%2C%20-97.063148%5D%2C%20%5B39.810658%2C%20-86.00484499999997%5D%2C%20%5B39.079361%2C%20-94.593323%5D%2C%20%5B34.529598%2C%20-82.802437%5D%2C%20%5B38.560398%2C%20-121.4814%5D%2C%20%5B30.055776%2C%20-90.371625%5D%2C%20%5B36.688259%2C%20-120.659981%5D%2C%20%5B36.111698%2C%20-95.899559%5D%2C%20%5B41.219723%2C%20-96.004593%5D%2C%20%5B25.79369%2C%20-80.38597%5D%2C%20%5B32.79703%2C%20-96.81614%5D%2C%20%5B33.737003%2C%20-84.391846%5D%2C%20%5B26.706352000000006%2C%20-80.053719%5D%2C%20%5B33.450084999999994%2C%20-86.818123%5D%2C%20%5B32.373558%2C%20-111.016228%5D%2C%20%5B42.52361%2C%20-122.85416%5D%2C%20%5B39.10582%2C%20-84.504143%5D%2C%20%5B42.849899%2C%20-78.79026%5D%2C%20%5B40.785065%2C%20-73.648636%5D%2C%20%5B33.8649%2C%20-112.63498%5D%2C%20%5B32.250759%2C%20-110.840614%5D%2C%20%5B32.972778000000005%2C%20-96.324402%5D%2C%20%5B40.787792%2C%20-73.5252%5D%2C%20%5B35.117019%2C%20-80.929037%5D%2C%20%5B41.131371%2C%20-74.167992%5D%2C%20%5B42.331257%2C%20-83.145073%5D%2C%20%5B41.5492%2C%20-81.60721%5D%2C%20%5B43.150512%2C%20-77.643936%5D%2C%20%5B39.716179%2C%20-86.361267%5D%2C%20%5B44.777527%2C%20-93.217903%5D%2C%20%5B33.522751%2C%20-82.03363%5D%2C%20%5B41.78542%2C%20-112.128299%5D%2C%20%5B32.77401%2C%20-80.460861%5D%2C%20%5B40.132538%2C%20-75.15271800000002%5D%2C%20%5B29.633895000000006%2C%20-95.467226%5D%2C%20%5B34.22661%2C%20-118.38674%5D%2C%20%5B34.07131%2C%20-118.12269%5D%2C%20%5B47.25875%2C%20-122.26029%5D%2C%20%5B45.69123%2C%20-120.430094%5D%2C%20%5B39.339397%2C%20-120.349556%5D%2C%20%5B39.25705%2C%20-78.101028%5D%2C%20%5B36.82241%2C%20-119.91658%5D%2C%20%5B25.926786%2C%20-80.207237%5D%2C%20%5B39.01243%2C%20-94.55447%5D%2C%20%5B38.224499%2C%20-122.126534%5D%2C%20%5B34.057990000000004%2C%20-118.16524%5D%2C%20%5B39.837573%2C%20-75.38107%5D%2C%20%5B40.414486%2C%20-111.870277%5D%2C%20%5B38.956661%2C%20-121.101357%5D%2C%20%5B25.897641%2C%20-80.227393%5D%2C%20%5B40.60368%2C%20-74.053461%5D%2C%20%5B38.839657%2C%20-104.757332%5D%2C%20%5B33.858994%2C%20-117.536405%5D%2C%20%5B34.027583%2C%20-118.452411%5D%2C%20%5B30.64749%2C%20-91.147629%5D%2C%20%5B39.692444%2C%20-86.186867%5D%2C%20%5B34.0087%2C%20-118.05508%5D%2C%20%5B43.10902%2C%20-77.674644%5D%2C%20%5B35.82673300000001%2C%20-119.232524%5D%2C%20%5B39.096687%2C%20-94.624798%5D%2C%20%5B34.344173%2C%20-117.461646%5D%2C%20%5B34.987801%2C%20-105.220764%5D%2C%20%5B41.763761%2C%20-72.633411%5D%2C%20%5B43.088039%2C%20-77.636314%5D%2C%20%5B34.252463%2C%20-111.270584%5D%2C%20%5B28.445629%2C%20-81.364952%5D%2C%20%5B33.093275%2C%20-117.083714%5D%2C%20%5B31.64767%2C%20-86.77824%5D%2C%20%5B34.077936%2C%20-117.814147%5D%2C%20%5B27.981457%2C%20-82.453758%5D%2C%20%5B30.252678000000003%2C%20-81.45169200000002%5D%2C%20%5B29.656654%2C%20-95.442105%5D%2C%20%5B34.250324%2C%20-117.197662%5D%2C%20%5B39.374226%2C%20-74.443523%5D%2C%20%5B40.903526%2C%20-74.09848000000002%5D%2C%20%5B35.75656%2C%20-78.61758%5D%2C%20%5B43.56304%2C%20-88.94823000000002%5D%2C%20%5B30.117119%2C%20-82.655563%5D%2C%20%5B40.056164%2C%20-111.73218500000002%5D%2C%20%5B33.048312%2C%20-117.286235%5D%2C%20%5B34.812801%2C%20-82.41873199999998%5D%2C%20%5B28.467101%2C%20-81.330761%5D%2C%20%5B33.642293%2C%20-86.615513%5D%2C%20%5B30.314501%2C%20-89.825478%5D%2C%20%5B26.00905%2C%20-80.248%5D%2C%20%5B34.077187%2C%20-118.282005%5D%2C%20%5B46.675522%2C%20-122.975716%5D%2C%20%5B37.006573%2C%20-76.402618%5D%2C%20%5B28.477818%2C%20-81.474915%5D%2C%20%5B33.94101%2C%20-118.096596%5D%2C%20%5B44.22193400000001%2C%20-93.276296%5D%2C%20%5B39.279816%2C%20-76.553085%5D%2C%20%5B34.042994%2C%20-118.220973%5D%2C%20%5B32.54422%2C%20-117.03237%5D%2C%20%5B41.470104%2C%20-81.75061%5D%2C%20%5B42.228188%2C%20-122.740883%5D%2C%20%5B35.77982%2C%20-78.61345%5D%2C%20%5B33.963913%2C%20-117.324977%5D%2C%20%5B44.24873%2C%20-117.52172%5D%2C%20%5B29.50732%2C%20-98.49929%5D%2C%20%5B34.17054%2C%20-118.501099%5D%2C%20%5B41.24152%2C%20-95.973343%5D%2C%20%5B38.833103%2C%20-77.218002%5D%2C%20%5B40.162506%2C%20-75.353752%5D%2C%20%5B27.110071%2C%20-82.348015%5D%2C%20%5B37.458261%2C%20-79.835468%5D%2C%20%5B36.928108%2C%20-121.813881%5D%2C%20%5B34.063461%2C%20-118.202782%5D%2C%20%5B45.517628%2C%20-122.666884%5D%2C%20%5B32.998219%2C%20-80.093544%5D%2C%20%5B35.79424%2C%20-119.253469%5D%2C%20%5B45.749156%2C%20-108.560492%5D%2C%20%5B29.954536%2C%20-90.102716%5D%2C%20%5B39.20137%2C%20-77.26724200000002%5D%2C%20%5B37.05368%2C%20-120.64499%5D%5D%2C%0A%20%20%20%20%20%20%20%20%20%20%20%20%20%20%20%20%7B%0A%20%20%20%20%20%20%20%20%20%20%20%20%20%20%20%20%20%20%20%20minOpacity%3A%200.5%2C%0A%20%20%20%20%20%20%20%20%20%20%20%20%20%20%20%20%20%20%20%20maxZoom%3A%2018%2C%0A%20%20%20%20%20%20%20%20%20%20%20%20%20%20%20%20%20%20%20%20max%3A%201.0%2C%0A%20%20%20%20%20%20%20%20%20%20%20%20%20%20%20%20%20%20%20%20radius%3A%2025%2C%0A%20%20%20%20%20%20%20%20%20%20%20%20%20%20%20%20%20%20%20%20blur%3A%2015%2C%0A%20%20%20%20%20%20%20%20%20%20%20%20%20%20%20%20%20%20%20%20gradient%3A%20null%0A%20%20%20%20%20%20%20%20%20%20%20%20%20%20%20%20%20%20%20%20%7D%29%0A%20%20%20%20%20%20%20%20%20%20%20%20%20%20%20%20.addTo%28map_e082839cae40496db68d66097b748f3e%29%3B%0A%20%20%20%20%20%20%20%20%0A%3C/script%3E onload=\"this.contentDocument.open();this.contentDocument.write(    decodeURIComponent(this.getAttribute('data-html')));this.contentDocument.close();\" allowfullscreen webkitallowfullscreen mozallowfullscreen></iframe></div></div>"
            ],
            "text/plain": [
              "<folium.folium.Map at 0x7f20919f1f50>"
            ]
          },
          "metadata": {
            "tags": []
          },
          "execution_count": 90
        }
      ]
    },
    {
      "cell_type": "code",
      "metadata": {
        "id": "9mtQv6SD8mUG"
      },
      "source": [
        ""
      ],
      "execution_count": null,
      "outputs": []
    },
    {
      "cell_type": "code",
      "metadata": {
        "colab": {
          "base_uri": "https://localhost:8080/"
        },
        "id": "ZazF7_u8rNJs",
        "outputId": "f047e369-d2d2-46d4-83ea-bfdd9343d0d7"
      },
      "source": [
        "'New york' in df.City"
      ],
      "execution_count": null,
      "outputs": [
        {
          "output_type": "execute_result",
          "data": {
            "text/plain": [
              "False"
            ]
          },
          "metadata": {
            "tags": []
          },
          "execution_count": 31
        }
      ]
    },
    {
      "cell_type": "code",
      "metadata": {
        "id": "U4QoUj4erMcQ"
      },
      "source": [
        ""
      ],
      "execution_count": null,
      "outputs": []
    },
    {
      "cell_type": "code",
      "metadata": {
        "id": "xwYru-zhrMZm"
      },
      "source": [
        ""
      ],
      "execution_count": null,
      "outputs": []
    },
    {
      "cell_type": "markdown",
      "metadata": {
        "id": "ZecFN3JJrRKf"
      },
      "source": [
        "## Ask and Answer questions \n",
        "\n",
        "1.Are there are more accidents in warmer or colder areas? \n",
        "\n",
        "2.Which 5 states have the highest nukber of accidents?\n",
        "\n",
        "3.how about percapita?\n",
        "\n",
        "4.Does newyork show up in the data? if yes, why is the count lower ifthis is the most populates city.\n",
        "\n",
        "5.Among the top 100 cities in number of accidents, which states do they beling to most frequently.\n",
        "\n",
        "6.what time of the day are accidents most freuent?\n",
        "\n",
        "7.what days of week have the most accidents?\n",
        "\n",
        "8.what is the trend of accidents year over year?\n",
        "\n"
      ]
    },
    {
      "cell_type": "code",
      "metadata": {
        "id": "-e4tIcCgrP6p"
      },
      "source": [
        ""
      ],
      "execution_count": null,
      "outputs": []
    },
    {
      "cell_type": "markdown",
      "metadata": {
        "id": "akE6FBRe7h4d"
      },
      "source": [
        "##Summary and Conclusions\n",
        "\n",
        "Insights\n",
        "\n",
        "-Less than 4% of cities have more than 1000 yearly accidents\n",
        "\n",
        "-over 1300 cities have reported only 1 accident\n"
      ]
    },
    {
      "cell_type": "code",
      "metadata": {
        "id": "71TjfawkrP2l"
      },
      "source": [
        ""
      ],
      "execution_count": null,
      "outputs": []
    },
    {
      "cell_type": "code",
      "metadata": {
        "id": "YBFVKlVnrPzy"
      },
      "source": [
        ""
      ],
      "execution_count": null,
      "outputs": []
    },
    {
      "cell_type": "code",
      "metadata": {
        "id": "n92yUkyQrPxG"
      },
      "source": [
        ""
      ],
      "execution_count": null,
      "outputs": []
    },
    {
      "cell_type": "code",
      "metadata": {
        "id": "3R7oREkcrPu_"
      },
      "source": [
        ""
      ],
      "execution_count": null,
      "outputs": []
    },
    {
      "cell_type": "code",
      "metadata": {
        "id": "zpRo0ajsrPrh"
      },
      "source": [
        ""
      ],
      "execution_count": null,
      "outputs": []
    },
    {
      "cell_type": "code",
      "metadata": {
        "id": "alU98e0yrPpT"
      },
      "source": [
        ""
      ],
      "execution_count": null,
      "outputs": []
    },
    {
      "cell_type": "code",
      "metadata": {
        "id": "FanFJRv4rPm_"
      },
      "source": [
        ""
      ],
      "execution_count": null,
      "outputs": []
    },
    {
      "cell_type": "code",
      "metadata": {
        "id": "ac8HrsHUrPjr"
      },
      "source": [
        ""
      ],
      "execution_count": null,
      "outputs": []
    },
    {
      "cell_type": "code",
      "metadata": {
        "id": "wAaoK8acrPhI"
      },
      "source": [
        ""
      ],
      "execution_count": null,
      "outputs": []
    },
    {
      "cell_type": "code",
      "metadata": {
        "id": "7RCAk_KJrPfl"
      },
      "source": [
        ""
      ],
      "execution_count": null,
      "outputs": []
    },
    {
      "cell_type": "code",
      "metadata": {
        "id": "rTVYVFAQrPbx"
      },
      "source": [
        ""
      ],
      "execution_count": null,
      "outputs": []
    },
    {
      "cell_type": "code",
      "metadata": {
        "id": "GWFi9e9brPaK"
      },
      "source": [
        ""
      ],
      "execution_count": null,
      "outputs": []
    },
    {
      "cell_type": "code",
      "metadata": {
        "id": "I9OEvcdfrPW6"
      },
      "source": [
        ""
      ],
      "execution_count": null,
      "outputs": []
    },
    {
      "cell_type": "code",
      "metadata": {
        "id": "a-_QbGaFrPUM"
      },
      "source": [
        ""
      ],
      "execution_count": null,
      "outputs": []
    },
    {
      "cell_type": "code",
      "metadata": {
        "id": "W1ZrgJbTrPSm"
      },
      "source": [
        ""
      ],
      "execution_count": null,
      "outputs": []
    },
    {
      "cell_type": "code",
      "metadata": {
        "id": "6XNAFLCqrPPI"
      },
      "source": [
        ""
      ],
      "execution_count": null,
      "outputs": []
    },
    {
      "cell_type": "code",
      "metadata": {
        "id": "eLpAlTrNrPM3"
      },
      "source": [
        ""
      ],
      "execution_count": null,
      "outputs": []
    },
    {
      "cell_type": "code",
      "metadata": {
        "id": "rulwHjMjrPJp"
      },
      "source": [
        ""
      ],
      "execution_count": null,
      "outputs": []
    },
    {
      "cell_type": "code",
      "metadata": {
        "id": "6ndraMKYrPHA"
      },
      "source": [
        ""
      ],
      "execution_count": null,
      "outputs": []
    },
    {
      "cell_type": "code",
      "metadata": {
        "id": "GCRgtjSHrPEG"
      },
      "source": [
        ""
      ],
      "execution_count": null,
      "outputs": []
    },
    {
      "cell_type": "code",
      "metadata": {
        "id": "fXlz2rpCrPBe"
      },
      "source": [
        ""
      ],
      "execution_count": null,
      "outputs": []
    },
    {
      "cell_type": "code",
      "metadata": {
        "id": "oydgGo-srO-9"
      },
      "source": [
        ""
      ],
      "execution_count": null,
      "outputs": []
    },
    {
      "cell_type": "code",
      "metadata": {
        "id": "n-ote3HirMWV"
      },
      "source": [
        ""
      ],
      "execution_count": null,
      "outputs": []
    },
    {
      "cell_type": "code",
      "metadata": {
        "id": "QAp7UMkdi4z_"
      },
      "source": [
        ""
      ],
      "execution_count": null,
      "outputs": []
    },
    {
      "cell_type": "code",
      "metadata": {
        "id": "Uxyd4F9-i40A"
      },
      "source": [
        "import jovian"
      ],
      "execution_count": null,
      "outputs": []
    },
    {
      "cell_type": "code",
      "metadata": {
        "colab": {
          "base_uri": "https://localhost:8080/"
        },
        "id": "QQvQFgN6i40A",
        "outputId": "bf8f5d01-1ee5-424a-a0df-adc33eca3da5"
      },
      "source": [
        "# Execute this to save new versions of the notebook\n",
        "jovian.commit()"
      ],
      "execution_count": null,
      "outputs": [
        {
          "output_type": "stream",
          "text": [
            "[jovian] Detected Colab notebook...\u001b[0m\n",
            "[jovian] Please enter your API key ( from https://jovian.ai/ ):\u001b[0m\n",
            "API KEY: "
          ],
          "name": "stdout"
        }
      ]
    },
    {
      "cell_type": "code",
      "metadata": {
        "id": "13LUXaYbi40B"
      },
      "source": [
        ""
      ],
      "execution_count": 4,
      "outputs": []
    },
    {
      "cell_type": "code",
      "metadata": {
        "id": "cMF24IIGzhyQ"
      },
      "source": [
        ""
      ],
      "execution_count": null,
      "outputs": []
    }
  ]
}